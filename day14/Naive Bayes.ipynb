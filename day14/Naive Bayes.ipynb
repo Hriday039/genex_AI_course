{
 "cells": [
  {
   "cell_type": "markdown",
   "metadata": {},
   "source": [
    "# Naive Bayes Classifier\n",
    "\n",
    "Naive Bayes is a statistical classification technique based on Bayes Theorem. It is one of the simplest supervised learning algorithms. \n",
    "\n",
    "<img src=\"image/bayes.png\">\n",
    "\n",
    "- P(h): the probability of hypothesis h being true (regardless of the data). This is known as the prior probability of h.\n",
    "- P(D): the probability of the data (regardless of the hypothesis). This is known as the prior probability.\n",
    "- P(h|D): the probability of hypothesis h given the data D. This is known as posterior probability.\n",
    "- P(D|h): the probability of data d given that the hypothesis h was true. This is known as likelihood."
   ]
  },
  {
   "cell_type": "markdown",
   "metadata": {},
   "source": [
    "# How it works\n",
    "\n",
    "Let’s understand the working of Naive Bayes through an example. Given an example of weather conditions and playing cricket. You need to calculate the probability of playing cricket. Now, you need to classify whether players will play or not, based on the weather condition.\n",
    "\n",
    "<img src=\"image/dataset.png\" width=\"120\">\n",
    "\n",
    "\n",
    "## In case of a single feature\n",
    "\n",
    "1. Calculate the prior probability for given class labels\n",
    "2. Find Likelihood probability with each attribute for each class\n",
    "3. Put these value in Bayes Formula and calculate posterior probability\n",
    "4. See which class has a higher probability, given the input belongs to the higher probability class\n",
    "\n",
    "\n",
    "<img src=\"image/example.png\" >\n"
   ]
  },
  {
   "cell_type": "markdown",
   "metadata": {},
   "source": [
    "#### Now suppose you want to calculate the probability of playing when the weather is overcast.\n",
    "\n",
    "<img src=\"image/table.png\" width=\"480\">\n",
    "\n",
    "#### Probability of playing:\n",
    "`P(Yes | Overcast) = P(Overcast | Yes) P(Yes) / P (Overcast) .....................(1)`\n",
    "1. Calculate Prior Probabilities:\n",
    "\n",
    "`P(Overcast) = 4/14 = 0.29`\n",
    "\n",
    "`P(Yes)= 9/14 = 0.64`\n",
    "\n",
    "2. Calculate Likelihood Probabilities:\n",
    "\n",
    "`P(Overcast |Yes) = 4/9 = 0.44`\n",
    "\n",
    "3. Put Prior and Likelihood probabilities in equation (1)\n",
    "\n",
    "`P (Yes | Overcast) = 0.44 * 0.64 / 0.29 = 0.98`\n"
   ]
  },
  {
   "cell_type": "markdown",
   "metadata": {},
   "source": [
    "#### Probability of not playing:\n",
    "\n",
    "<img src=\"image/table.png\" width=\"480\">\n",
    "\n",
    "`P(No | Overcast) = P(Overcast | No) P(No) / P (Overcast) .....................(2)`\n",
    "\n",
    "1. Calculate Prior Probabilities:\n",
    "\n",
    "`P(Overcast) = 4/14 = 0.29`\n",
    "\n",
    "`P(No)= 5/14 = 0.36`\n",
    "\n",
    "2. Calculate Likelihood Probabilities:\n",
    "\n",
    "`P(Overcast |No) = 0/9 = 0`\n",
    "\n",
    "3. Put Prior and Likelihood probabilities in equation (2)\n",
    "\n",
    "`P (No | Overcast) = 0 * 0.36 / 0.29 = 0`\n",
    "\n",
    "4. **The probability of a 'Yes' class is higher. So you can determine here if the weather is overcast than players will play the game.**"
   ]
  },
  {
   "cell_type": "markdown",
   "metadata": {},
   "source": [
    "> # Task #1: \n",
    "### Now suppose you want to calculate the probability of playing when the weather is rainy. (5 mins)\n"
   ]
  },
  {
   "cell_type": "markdown",
   "metadata": {},
   "source": [
    "# Classifier Building in Scikit-learn"
   ]
  },
  {
   "cell_type": "code",
   "execution_count": 1,
   "metadata": {},
   "outputs": [],
   "source": [
    "from sklearn import preprocessing\n",
    "import pandas as pd\n",
    "\n",
    "\n",
    "# Assigning features and label variables\n",
    "weather=['Sunny','Sunny','Overcast','Rainy','Rainy','Rainy','Overcast','Sunny','Sunny',\n",
    "        'Rainy','Sunny','Overcast','Overcast','Rainy']\n",
    "\n",
    "# temp=['Hot','Hot','Hot','Mild','Cool','Cool','Cool','Mild','Cool','Mild','Mild','Mild','Hot','Mild']\n",
    "\n",
    "play=['No','No','Yes','Yes','Yes','No','Yes','No','Yes','Yes','Yes','Yes','Yes','No']"
   ]
  },
  {
   "cell_type": "code",
   "execution_count": 2,
   "metadata": {},
   "outputs": [
    {
     "name": "stdout",
     "output_type": "stream",
     "text": [
      "[2 2 0 1 1 1 0 2 2 1 2 0 0 1]  \n",
      " [0 0 1 1 1 0 1 0 1 1 1 1 1 0]\n"
     ]
    }
   ],
   "source": [
    "#creating labelEncoder\n",
    "le = preprocessing.LabelEncoder()\n",
    "\n",
    "# Converting string labels into numbers.\n",
    "weather_encoded=le.fit_transform(weather)\n",
    "label=le.fit_transform(play)\n",
    "print(weather_encoded, ' \\n',label)"
   ]
  },
  {
   "cell_type": "code",
   "execution_count": 3,
   "metadata": {},
   "outputs": [
    {
     "data": {
      "text/html": [
       "<div>\n",
       "<style scoped>\n",
       "    .dataframe tbody tr th:only-of-type {\n",
       "        vertical-align: middle;\n",
       "    }\n",
       "\n",
       "    .dataframe tbody tr th {\n",
       "        vertical-align: top;\n",
       "    }\n",
       "\n",
       "    .dataframe thead th {\n",
       "        text-align: right;\n",
       "    }\n",
       "</style>\n",
       "<table border=\"1\" class=\"dataframe\">\n",
       "  <thead>\n",
       "    <tr style=\"text-align: right;\">\n",
       "      <th></th>\n",
       "      <th>weather</th>\n",
       "      <th>play</th>\n",
       "    </tr>\n",
       "  </thead>\n",
       "  <tbody>\n",
       "    <tr>\n",
       "      <th>0</th>\n",
       "      <td>2</td>\n",
       "      <td>0</td>\n",
       "    </tr>\n",
       "    <tr>\n",
       "      <th>1</th>\n",
       "      <td>2</td>\n",
       "      <td>0</td>\n",
       "    </tr>\n",
       "    <tr>\n",
       "      <th>2</th>\n",
       "      <td>0</td>\n",
       "      <td>1</td>\n",
       "    </tr>\n",
       "    <tr>\n",
       "      <th>3</th>\n",
       "      <td>1</td>\n",
       "      <td>1</td>\n",
       "    </tr>\n",
       "    <tr>\n",
       "      <th>4</th>\n",
       "      <td>1</td>\n",
       "      <td>1</td>\n",
       "    </tr>\n",
       "    <tr>\n",
       "      <th>5</th>\n",
       "      <td>1</td>\n",
       "      <td>0</td>\n",
       "    </tr>\n",
       "    <tr>\n",
       "      <th>6</th>\n",
       "      <td>0</td>\n",
       "      <td>1</td>\n",
       "    </tr>\n",
       "    <tr>\n",
       "      <th>7</th>\n",
       "      <td>2</td>\n",
       "      <td>0</td>\n",
       "    </tr>\n",
       "    <tr>\n",
       "      <th>8</th>\n",
       "      <td>2</td>\n",
       "      <td>1</td>\n",
       "    </tr>\n",
       "    <tr>\n",
       "      <th>9</th>\n",
       "      <td>1</td>\n",
       "      <td>1</td>\n",
       "    </tr>\n",
       "    <tr>\n",
       "      <th>10</th>\n",
       "      <td>2</td>\n",
       "      <td>1</td>\n",
       "    </tr>\n",
       "    <tr>\n",
       "      <th>11</th>\n",
       "      <td>0</td>\n",
       "      <td>1</td>\n",
       "    </tr>\n",
       "    <tr>\n",
       "      <th>12</th>\n",
       "      <td>0</td>\n",
       "      <td>1</td>\n",
       "    </tr>\n",
       "    <tr>\n",
       "      <th>13</th>\n",
       "      <td>1</td>\n",
       "      <td>0</td>\n",
       "    </tr>\n",
       "  </tbody>\n",
       "</table>\n",
       "</div>"
      ],
      "text/plain": [
       "    weather  play\n",
       "0         2     0\n",
       "1         2     0\n",
       "2         0     1\n",
       "3         1     1\n",
       "4         1     1\n",
       "5         1     0\n",
       "6         0     1\n",
       "7         2     0\n",
       "8         2     1\n",
       "9         1     1\n",
       "10        2     1\n",
       "11        0     1\n",
       "12        0     1\n",
       "13        1     0"
      ]
     },
     "execution_count": 3,
     "metadata": {},
     "output_type": "execute_result"
    }
   ],
   "source": [
    "df= pd.DataFrame()\n",
    "df['weather'] = weather_encoded\n",
    "df['play'] = label\n",
    "df"
   ]
  },
  {
   "cell_type": "code",
   "execution_count": 8,
   "metadata": {},
   "outputs": [
    {
     "data": {
      "text/plain": [
       "array([[2],\n",
       "       [2],\n",
       "       [0],\n",
       "       [1],\n",
       "       [1],\n",
       "       [1],\n",
       "       [0],\n",
       "       [2],\n",
       "       [2],\n",
       "       [1],\n",
       "       [2],\n",
       "       [0],\n",
       "       [0],\n",
       "       [1]], dtype=int64)"
      ]
     },
     "execution_count": 8,
     "metadata": {},
     "output_type": "execute_result"
    }
   ],
   "source": [
    "df['weather'].values.reshape(-1,1)"
   ]
  },
  {
   "cell_type": "code",
   "execution_count": 19,
   "metadata": {},
   "outputs": [
    {
     "data": {
      "text/plain": [
       "GaussianNB(priors=None, var_smoothing=1e-09)"
      ]
     },
     "execution_count": 19,
     "metadata": {},
     "output_type": "execute_result"
    }
   ],
   "source": [
    "#Import Gaussian Naive Bayes model\n",
    "from sklearn.naive_bayes import GaussianNB\n",
    "\n",
    "#Create a Gaussian Classifier\n",
    "model = GaussianNB()\n",
    "\n",
    "# Train the model \n",
    "model.fit(df['weather'].values.reshape(-1,1),\n",
    "          df['play'])\n"
   ]
  },
  {
   "cell_type": "code",
   "execution_count": 21,
   "metadata": {},
   "outputs": [
    {
     "name": "stdout",
     "output_type": "stream",
     "text": [
      "Predicted Value: [1]\n"
     ]
    }
   ],
   "source": [
    "# let's check for rainy weather\n",
    "predicted= model.predict([[1]]) \n",
    "print(\"Predicted Value:\", predicted)"
   ]
  },
  {
   "cell_type": "markdown",
   "metadata": {},
   "source": [
    "> # Assignment #2\n",
    "There is a CSV data in `data/` folder. Implement Naive Bayes with that data. (using scikit-learn)"
   ]
  }
 ],
 "metadata": {
  "kernelspec": {
   "display_name": "Python 3",
   "language": "python",
   "name": "python3"
  },
  "language_info": {
   "codemirror_mode": {
    "name": "ipython",
    "version": 3
   },
   "file_extension": ".py",
   "mimetype": "text/x-python",
   "name": "python",
   "nbconvert_exporter": "python",
   "pygments_lexer": "ipython3",
   "version": "3.7.2"
  }
 },
 "nbformat": 4,
 "nbformat_minor": 4
}
