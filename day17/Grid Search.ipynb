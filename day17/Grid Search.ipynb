{
 "cells": [
  {
   "cell_type": "markdown",
   "metadata": {},
   "source": [
    "# Ensemble Learning\n",
    "\n",
    "> \"একতাই শক্তি\" \n",
    "\n",
    "This old saying expresses pretty well the underlying idea that rules the very powerful “ensemble methods” in machine learning. \n",
    "\n",
    "Ensemble learning is a machine learning paradigm where multiple models (often called **“weak learners”**) are trained to solve the same problem and combined to get better results. The main hypothesis is that when weak models are correctly combined we can obtain more accurate and/or robust models.\n",
    "\n",
    "Roughly, ensemble learning methods, that often trust the top rankings of many machine learning competitions (including Kaggle’s competitions), are based on the hypothesis that combining multiple models together can often produce a much more powerful model."
   ]
  },
  {
   "cell_type": "markdown",
   "metadata": {},
   "source": [
    "# Different types of Ensemble Learning techniques\n",
    "\n",
    "There are simple and advanced ensemble learning techniques.\n",
    "\n",
    "**1. Simple:**\n",
    "    1. Max Voting\n",
    "    2. Averaging\n",
    "    3. Weighted Averaging\n",
    "**2. Advanced:**\n",
    "    1. Bagging\n",
    "    2. Boosting"
   ]
  },
  {
   "cell_type": "markdown",
   "metadata": {},
   "source": [
    "# Synthetic Dataset Generation"
   ]
  },
  {
   "cell_type": "code",
   "execution_count": 1,
   "metadata": {},
   "outputs": [
    {
     "name": "stdout",
     "output_type": "stream",
     "text": [
      "(1000, 20) (1000, 20)\n"
     ]
    }
   ],
   "source": [
    "# dataset\n",
    "from sklearn.datasets import make_classification\n",
    "from sklearn.datasets import make_regression\n",
    "\n",
    "\n",
    "# define dataset\n",
    "reg_X, reg_y = make_regression(n_samples=1000, n_features=20, n_informative=12, \n",
    "                               noise=0.1, random_state=5)\n",
    "\n",
    "# define dataset\n",
    "cls_X, cls_y = make_classification(n_samples=1000, n_features=20, n_informative=12, \n",
    "                                   n_classes=5, n_redundant=6, random_state=5)\n",
    "# summarize the dataset\n",
    "print(reg_X.shape, cls_X.shape)"
   ]
  },
  {
   "cell_type": "code",
   "execution_count": 2,
   "metadata": {},
   "outputs": [],
   "source": [
    "# train & test\n",
    "x_train = cls_X[:700]\n",
    "y_train = cls_y[:700]\n",
    "\n",
    "x_test = cls_X[700:]\n",
    "y_test = cls_y[700:]"
   ]
  },
  {
   "cell_type": "markdown",
   "metadata": {},
   "source": [
    "# Max Voting\n",
    "\n",
    "The max voting method is generally used for classification problems. In this technique, multiple models are used to make predictions for each data point. The predictions by each model are considered as a `vote`. The predictions which we get from the majority of the models are used as the final prediction.\n",
    "\n",
    "<img src='img/majority_voting.png' width='400'>"
   ]
  },
  {
   "cell_type": "code",
   "execution_count": 3,
   "metadata": {},
   "outputs": [
    {
     "name": "stdout",
     "output_type": "stream",
     "text": [
      "result : \n",
      "model1 accuracy 0.49666666666666665\n",
      "model2 accuracy 0.6933333333333334\n",
      "model3 accuracy 0.55\n",
      "Max Voting accuracy 0.6566666666666666\n"
     ]
    }
   ],
   "source": [
    "from scipy.stats import mode\n",
    "from sklearn.metrics import accuracy_score\n",
    "import numpy as np\n",
    "\n",
    "# For ML\n",
    "from sklearn import tree\n",
    "from sklearn.neighbors import KNeighborsClassifier\n",
    "from sklearn.linear_model import LogisticRegression\n",
    "\n",
    "\n",
    "model1 = tree.DecisionTreeClassifier()\n",
    "model2 = KNeighborsClassifier()\n",
    "model3= LogisticRegression()\n",
    "\n",
    "model1.fit(x_train,y_train)\n",
    "model2.fit(x_train,y_train)\n",
    "model3.fit(x_train,y_train)\n",
    "\n",
    "pred1=model1.predict(x_test)\n",
    "pred2=model2.predict(x_test)\n",
    "pred3=model3.predict(x_test)\n",
    "\n",
    "final_pred = []\n",
    "for i in range(0,len(x_test)):\n",
    "    final_pred.append(mode([pred1[i], pred2[i], pred3[i]])[0])\n",
    "    \n",
    "print(\"result : \")\n",
    "print(f\"model1 accuracy { accuracy_score(y_test, pred1) }\")\n",
    "print(f\"model2 accuracy { accuracy_score(y_test, pred2) }\")\n",
    "print(f\"model3 accuracy { accuracy_score(y_test, pred3) }\")\n",
    "\n",
    "print(f\"Max Voting accuracy { accuracy_score(y_test, final_pred) }\")"
   ]
  },
  {
   "cell_type": "markdown",
   "metadata": {},
   "source": [
    "# Averaging\n",
    "Similar to the max voting technique, multiple predictions are made for each data point in averaging. In this method, we take an average of predictions from all the models and use it to make the final prediction. Averaging can be used for making predictions in regression problems or while calculating probabilities for classification problems.\n",
    "\n",
    "<img src='img/average.png' width='400'>"
   ]
  },
  {
   "cell_type": "code",
   "execution_count": 4,
   "metadata": {},
   "outputs": [
    {
     "name": "stdout",
     "output_type": "stream",
     "text": [
      "result : \n",
      "model1 accuracy 0.4866666666666667\n",
      "model2 accuracy 0.6933333333333334\n",
      "model3 accuracy 0.55\n",
      "Avg. accuracy 0.5866666666666667\n"
     ]
    }
   ],
   "source": [
    "model1 = tree.DecisionTreeClassifier()\n",
    "model2 = KNeighborsClassifier()\n",
    "model3= LogisticRegression()\n",
    "\n",
    "model1.fit(x_train,y_train)\n",
    "model2.fit(x_train,y_train)\n",
    "model3.fit(x_train,y_train)\n",
    "\n",
    "pred1=model1.predict_proba(x_test)\n",
    "pred2=model2.predict_proba(x_test)\n",
    "pred3=model3.predict_proba(x_test)\n",
    "\n",
    "finalpred=(pred1+pred2+pred3)/3\n",
    "\n",
    "print(\"result : \")\n",
    "print(f\"model1 accuracy { accuracy_score(y_test, np.argmax(pred1, axis=1)) }\")\n",
    "print(f\"model2 accuracy { accuracy_score(y_test, np.argmax(pred2, axis=1)) }\")\n",
    "print(f\"model3 accuracy { accuracy_score(y_test, np.argmax(pred3, axis=1)) }\")\n",
    "\n",
    "print(f\"Avg. accuracy { accuracy_score(y_test, np.argmax(finalpred, axis=1)) }\")"
   ]
  },
  {
   "cell_type": "markdown",
   "metadata": {},
   "source": [
    "# Weighted Average\n",
    "\n",
    "This is an extension of the averaging method. All models are assigned different weights defining the importance of each model for prediction.\n",
    "\n",
    "<img src='img/weighted-unweighted.png' width='450'>"
   ]
  },
  {
   "cell_type": "code",
   "execution_count": 5,
   "metadata": {},
   "outputs": [
    {
     "name": "stdout",
     "output_type": "stream",
     "text": [
      "result : \n",
      "model1 accuracy 0.49333333333333335\n",
      "model2 accuracy 0.6933333333333334\n",
      "model3 accuracy 0.55\n",
      "w. avg. accuracy 0.6933333333333334\n"
     ]
    }
   ],
   "source": [
    "model1 = tree.DecisionTreeClassifier()\n",
    "model2 = KNeighborsClassifier()\n",
    "model3= LogisticRegression()\n",
    "\n",
    "model1.fit(x_train,y_train)\n",
    "model2.fit(x_train,y_train)\n",
    "model3.fit(x_train,y_train)\n",
    "\n",
    "pred1=model1.predict_proba(x_test)\n",
    "pred2=model2.predict_proba(x_test)\n",
    "pred3=model3.predict_proba(x_test)\n",
    "\n",
    "finalpred=(pred1*0.2 + pred2*0.5 + pred3*0.3)\n",
    "\n",
    "print(\"result : \")\n",
    "print(f\"model1 accuracy { accuracy_score(y_test, np.argmax(pred1, axis=1)) }\")\n",
    "print(f\"model2 accuracy { accuracy_score(y_test, np.argmax(pred2, axis=1)) }\")\n",
    "print(f\"model3 accuracy { accuracy_score(y_test, np.argmax(pred3, axis=1)) }\")\n",
    "\n",
    "print(f\"w. avg. accuracy { accuracy_score(y_test, np.argmax(finalpred, axis=1)) }\")"
   ]
  },
  {
   "cell_type": "markdown",
   "metadata": {},
   "source": [
    "> # Task #1 (8 mins)\n",
    "\n",
    "1. Make a Synthetic Dataset for classification with n_classes = 4\n",
    "2. Try Max Voting Ensemble Learning techniques on that dataset"
   ]
  },
  {
   "cell_type": "code",
   "execution_count": null,
   "metadata": {},
   "outputs": [],
   "source": []
  },
  {
   "cell_type": "markdown",
   "metadata": {},
   "source": [
    "# Advanced Ensemble techniques\n",
    "Let’s move on to understanding the advanced techniques\n",
    "\n",
    "1. Bagging\n",
    "2. Boosting"
   ]
  },
  {
   "cell_type": "markdown",
   "metadata": {},
   "source": [
    "# Bagging\n",
    "\n",
    "The idea behind bagging is combining the results of multiple models (for instance, all decision trees) to get a generalized result. Here’s a question: If you create all the models on the same set of data and combine it, will it be useful? There is a high chance that these models will give the same result since they are getting the same input. \n",
    "\n",
    "So how can we solve this problem? One of the techniques is bootstrapping.\n",
    "\n",
    "Bootstrapping is a sampling technique in which we create subsets of observations from the original dataset, **with replacement / replica**. \n",
    "\n",
    "<img src='img/bootstrap.png' width='350'>\n",
    "\n",
    "Bagging <  **\"Bootstrap Aggregation\"** \n",
    "\n",
    "\n",
    "<img src='img/bagging1.png' width='650'>\n",
    "\n",
    "\n",
    "**Bagging algorithms:**\n",
    "\n",
    "1. Bagging meta-estimator\n",
    "2. Random forest\n",
    "\n",
    "\n",
    "## Bagging meta-estimator\n",
    "\n",
    "Bagging meta-estimator is an ensembling algorithm that can be used for both classification (BaggingClassifier) and regression (BaggingRegressor) problems. It follows the typical bagging technique to make predictions. Following are the steps for the bagging meta-estimator algorithm:\n",
    "\n",
    "Random subsets are created from the original dataset (Bootstrapping).\n",
    "The subset of the dataset includes all features.\n",
    "A user-specified base estimator is fitted on each of these smaller sets.\n",
    "Predictions from each model are combined to get the final result.\n",
    "\n"
   ]
  },
  {
   "cell_type": "code",
   "execution_count": 6,
   "metadata": {},
   "outputs": [
    {
     "data": {
      "text/plain": [
       "0.61"
      ]
     },
     "execution_count": 6,
     "metadata": {},
     "output_type": "execute_result"
    }
   ],
   "source": [
    "from sklearn.ensemble import BaggingClassifier\n",
    "from sklearn.ensemble import BaggingRegressor\n",
    "from sklearn import tree\n",
    "\n",
    "model = BaggingClassifier(n_estimators=5)\n",
    "\n",
    "model.fit(x_train, y_train)\n",
    "model.score(x_test,y_test)"
   ]
  },
  {
   "cell_type": "code",
   "execution_count": 7,
   "metadata": {},
   "outputs": [
    {
     "data": {
      "text/plain": [
       "0.7166666666666667"
      ]
     },
     "execution_count": 7,
     "metadata": {},
     "output_type": "execute_result"
    }
   ],
   "source": [
    "# KNN \n",
    "model = BaggingClassifier(base_estimator=KNeighborsClassifier(), \n",
    "                          n_estimators=30)\n",
    "model.fit(x_train, y_train)\n",
    "model.score(x_test,y_test)"
   ]
  },
  {
   "cell_type": "code",
   "execution_count": 8,
   "metadata": {},
   "outputs": [],
   "source": [
    "# train & test for regression\n",
    "Rx_train = reg_X[:700]\n",
    "Ry_train = reg_y[:700]\n",
    "\n",
    "Rx_test = reg_X[700:]\n",
    "Ry_test = reg_y[700:]"
   ]
  },
  {
   "cell_type": "markdown",
   "metadata": {},
   "source": [
    "> # Task #2 (5 mins)\n",
    "1. Use Bagging meta-estimator for regression"
   ]
  },
  {
   "cell_type": "code",
   "execution_count": 9,
   "metadata": {},
   "outputs": [],
   "source": [
    "# code here task #2\n"
   ]
  },
  {
   "cell_type": "markdown",
   "metadata": {},
   "source": [
    "# Boosting\n",
    "\n",
    "Before we go further, here’s another question for you: If a data point is incorrectly predicted by the first model, and then the next (probably all models), will combining the predictions provide better results? Such situations are taken care of by boosting.\n",
    "\n",
    "Boosting is a sequential process, where each subsequent model attempts to correct the errors of the previous model. The succeeding models are dependent on the previous model. Let’s understand the way boosting works in the below steps.\n",
    "\n",
    "1. First, generate Random Sample from Training Data-set.\n",
    "2. Now, Train a classifier model 1 for this generated sample data and test the whole training data-set.\n",
    "3. Now, Calculate the error for each instance prediction. if the instance is classified wrongly, increase the weight for that instance and create another sample.\n",
    "4. Repeat this process until you get high accuracy from the system.\n",
    "\n",
    "<img src='img/boosting.png' width='550'>\n",
    "\n",
    "Some boosting algorithms: \n",
    "\n",
    "1. XGBoost\n",
    "2. Light GBM\n",
    "3. CatBoost\n",
    "\n",
    "<img src='img/history.png' width='650'>\n"
   ]
  },
  {
   "cell_type": "markdown",
   "metadata": {},
   "source": [
    "# XGBoost\n",
    "\n",
    "XGBoost stands for eXtreme Gradient Boosting.\n",
    "\n",
    "XGBoost (extreme Gradient Boosting) is an advanced implementation of the gradient boosting algorithm. XGBoost has proved to be a highly effective ML algorithm, extensively used in machine learning competitions and hackathons. XGBoost has high predictive power and is almost 10 times faster than the other gradient boosting techniques. It also includes a variety of regularization which reduces overfitting and improves overall performance. Hence it is also known as **regularized boosting** technique."
   ]
  },
  {
   "cell_type": "code",
   "execution_count": 10,
   "metadata": {},
   "outputs": [
    {
     "data": {
      "text/plain": [
       "0.6933333333333334"
      ]
     },
     "execution_count": 10,
     "metadata": {},
     "output_type": "execute_result"
    }
   ],
   "source": [
    "from xgboost import XGBClassifier, XGBRegressor\n",
    "\n",
    "model=XGBClassifier()\n",
    "\n",
    "model.fit(x_train, y_train)\n",
    "model.score(x_test,y_test)"
   ]
  },
  {
   "cell_type": "markdown",
   "metadata": {},
   "source": [
    "> # Task #3 (5 mins)\n",
    "\n",
    "Apply XGBRegressor on regression dataset and check score"
   ]
  },
  {
   "cell_type": "code",
   "execution_count": 11,
   "metadata": {},
   "outputs": [],
   "source": [
    "# task #3 "
   ]
  },
  {
   "cell_type": "markdown",
   "metadata": {},
   "source": [
    "# Light GBM\n",
    "\n",
    "Before discussing how Light GBM works, let’s first understand why we need this algorithm when we have so many others (like the ones we have seen above). Light GBM beats all the other algorithms when the dataset is extremely large. Compared to the other algorithms, Light GBM takes lesser time to run on a huge dataset.\n",
    "\n",
    "LightGBM is a gradient boosting framework that uses tree-based algorithms and follows leaf-wise approach while other algorithms work in a level-wise approach pattern. The images below will help you understand the difference in a better way.\n",
    "\n",
    "<img src='img/light.png' width='450'>"
   ]
  },
  {
   "cell_type": "code",
   "execution_count": 12,
   "metadata": {},
   "outputs": [
    {
     "name": "stdout",
     "output_type": "stream",
     "text": [
      "[1]\tvalid_0's multi_logloss: 1.55608\n",
      "[2]\tvalid_0's multi_logloss: 1.50038\n",
      "[3]\tvalid_0's multi_logloss: 1.44956\n",
      "[4]\tvalid_0's multi_logloss: 1.40209\n",
      "[5]\tvalid_0's multi_logloss: 1.36048\n",
      "[6]\tvalid_0's multi_logloss: 1.32227\n",
      "[7]\tvalid_0's multi_logloss: 1.28969\n",
      "[8]\tvalid_0's multi_logloss: 1.25992\n",
      "[9]\tvalid_0's multi_logloss: 1.22988\n",
      "[10]\tvalid_0's multi_logloss: 1.20254\n",
      "[11]\tvalid_0's multi_logloss: 1.1805\n",
      "[12]\tvalid_0's multi_logloss: 1.15519\n",
      "[13]\tvalid_0's multi_logloss: 1.13834\n",
      "[14]\tvalid_0's multi_logloss: 1.11996\n",
      "[15]\tvalid_0's multi_logloss: 1.10142\n",
      "[16]\tvalid_0's multi_logloss: 1.0873\n",
      "[17]\tvalid_0's multi_logloss: 1.07291\n",
      "[18]\tvalid_0's multi_logloss: 1.06033\n",
      "[19]\tvalid_0's multi_logloss: 1.04948\n",
      "[20]\tvalid_0's multi_logloss: 1.03693\n",
      "[21]\tvalid_0's multi_logloss: 1.0245\n",
      "[22]\tvalid_0's multi_logloss: 1.01167\n",
      "[23]\tvalid_0's multi_logloss: 0.999995\n",
      "[24]\tvalid_0's multi_logloss: 0.990029\n",
      "[25]\tvalid_0's multi_logloss: 0.979912\n",
      "[26]\tvalid_0's multi_logloss: 0.970825\n",
      "[27]\tvalid_0's multi_logloss: 0.963646\n",
      "[28]\tvalid_0's multi_logloss: 0.954648\n",
      "[29]\tvalid_0's multi_logloss: 0.952662\n",
      "[30]\tvalid_0's multi_logloss: 0.945802\n",
      "[31]\tvalid_0's multi_logloss: 0.938448\n",
      "[32]\tvalid_0's multi_logloss: 0.930427\n",
      "[33]\tvalid_0's multi_logloss: 0.922816\n",
      "[34]\tvalid_0's multi_logloss: 0.916153\n",
      "[35]\tvalid_0's multi_logloss: 0.908038\n",
      "[36]\tvalid_0's multi_logloss: 0.9039\n",
      "[37]\tvalid_0's multi_logloss: 0.899824\n",
      "[38]\tvalid_0's multi_logloss: 0.895459\n",
      "[39]\tvalid_0's multi_logloss: 0.887098\n",
      "[40]\tvalid_0's multi_logloss: 0.883697\n",
      "[41]\tvalid_0's multi_logloss: 0.878851\n",
      "[42]\tvalid_0's multi_logloss: 0.87519\n",
      "[43]\tvalid_0's multi_logloss: 0.871794\n",
      "[44]\tvalid_0's multi_logloss: 0.866096\n",
      "[45]\tvalid_0's multi_logloss: 0.863057\n",
      "[46]\tvalid_0's multi_logloss: 0.861897\n",
      "[47]\tvalid_0's multi_logloss: 0.856406\n",
      "[48]\tvalid_0's multi_logloss: 0.851339\n",
      "[49]\tvalid_0's multi_logloss: 0.847929\n",
      "[50]\tvalid_0's multi_logloss: 0.846596\n",
      "[51]\tvalid_0's multi_logloss: 0.844642\n",
      "[52]\tvalid_0's multi_logloss: 0.842491\n",
      "[53]\tvalid_0's multi_logloss: 0.84089\n",
      "[54]\tvalid_0's multi_logloss: 0.837784\n",
      "[55]\tvalid_0's multi_logloss: 0.833887\n",
      "[56]\tvalid_0's multi_logloss: 0.834683\n",
      "[57]\tvalid_0's multi_logloss: 0.833032\n",
      "[58]\tvalid_0's multi_logloss: 0.833729\n",
      "[59]\tvalid_0's multi_logloss: 0.832467\n",
      "[60]\tvalid_0's multi_logloss: 0.829898\n",
      "[61]\tvalid_0's multi_logloss: 0.829783\n",
      "[62]\tvalid_0's multi_logloss: 0.828274\n",
      "[63]\tvalid_0's multi_logloss: 0.82724\n",
      "[64]\tvalid_0's multi_logloss: 0.82423\n",
      "[65]\tvalid_0's multi_logloss: 0.823246\n",
      "[66]\tvalid_0's multi_logloss: 0.821448\n",
      "[67]\tvalid_0's multi_logloss: 0.818072\n",
      "[68]\tvalid_0's multi_logloss: 0.818898\n",
      "[69]\tvalid_0's multi_logloss: 0.817505\n",
      "[70]\tvalid_0's multi_logloss: 0.815843\n",
      "[71]\tvalid_0's multi_logloss: 0.815814\n",
      "[72]\tvalid_0's multi_logloss: 0.816511\n",
      "[73]\tvalid_0's multi_logloss: 0.814776\n",
      "[74]\tvalid_0's multi_logloss: 0.814985\n",
      "[75]\tvalid_0's multi_logloss: 0.813506\n",
      "[76]\tvalid_0's multi_logloss: 0.811331\n",
      "[77]\tvalid_0's multi_logloss: 0.810987\n",
      "[78]\tvalid_0's multi_logloss: 0.80931\n",
      "[79]\tvalid_0's multi_logloss: 0.808927\n",
      "[80]\tvalid_0's multi_logloss: 0.810192\n",
      "[81]\tvalid_0's multi_logloss: 0.808928\n",
      "[82]\tvalid_0's multi_logloss: 0.807358\n",
      "[83]\tvalid_0's multi_logloss: 0.808027\n",
      "[84]\tvalid_0's multi_logloss: 0.807428\n",
      "[85]\tvalid_0's multi_logloss: 0.80684\n",
      "[86]\tvalid_0's multi_logloss: 0.805714\n",
      "[87]\tvalid_0's multi_logloss: 0.80324\n",
      "[88]\tvalid_0's multi_logloss: 0.80347\n",
      "[89]\tvalid_0's multi_logloss: 0.803281\n",
      "[90]\tvalid_0's multi_logloss: 0.802981\n",
      "[91]\tvalid_0's multi_logloss: 0.804137\n",
      "[92]\tvalid_0's multi_logloss: 0.803221\n",
      "[93]\tvalid_0's multi_logloss: 0.80291\n",
      "[94]\tvalid_0's multi_logloss: 0.804826\n",
      "[95]\tvalid_0's multi_logloss: 0.803618\n",
      "[96]\tvalid_0's multi_logloss: 0.803475\n",
      "[97]\tvalid_0's multi_logloss: 0.805365\n",
      "[98]\tvalid_0's multi_logloss: 0.804009\n",
      "[99]\tvalid_0's multi_logloss: 0.802569\n",
      "[100]\tvalid_0's multi_logloss: 0.802516\n"
     ]
    },
    {
     "data": {
      "text/plain": [
       "0.71"
      ]
     },
     "execution_count": 12,
     "metadata": {},
     "output_type": "execute_result"
    }
   ],
   "source": [
    "from lightgbm import LGBMClassifier, LGBMRegressor\n",
    "\n",
    "model = LGBMClassifier()\n",
    "\n",
    "model.fit(x_train, y_train, eval_set=(x_test, y_test))\n",
    "model.score(x_test, y_test)"
   ]
  },
  {
   "cell_type": "markdown",
   "metadata": {},
   "source": [
    "> # Task #4 (5 mins)\n",
    "\n",
    "Apply LGBMRegressor on regression dataset and check score"
   ]
  },
  {
   "cell_type": "code",
   "execution_count": 13,
   "metadata": {},
   "outputs": [],
   "source": [
    "# task #4"
   ]
  },
  {
   "cell_type": "markdown",
   "metadata": {},
   "source": [
    "# CatBoost\n",
    "\n",
    "`CatBoost` name comes from two words `Category` and `Boosting`.\n",
    "\n",
    "Handling categorical variables is a tedious process, especially when you have a large number of such variables. When your categorical variables have too many labels (i.e. they are highly cardinal), performing one-hot-encoding on them exponentially increases the dimensionality and it becomes really difficult to work with the dataset.\n",
    "\n",
    "CatBoost can automatically deal with categorical variables and does not require extensive data preprocessing like other machine learning algorithms."
   ]
  },
  {
   "cell_type": "code",
   "execution_count": 17,
   "metadata": {
    "scrolled": false
   },
   "outputs": [
    {
     "name": "stdout",
     "output_type": "stream",
     "text": [
      "Learning rate set to 0.409232\n",
      "0:\tlearn: 1.4453159\ttest: 1.4906592\tbest: 1.4906592 (0)\ttotal: 37.8ms\tremaining: 1.09s\n",
      "1:\tlearn: 1.3169959\ttest: 1.3969287\tbest: 1.3969287 (1)\ttotal: 65.5ms\tremaining: 917ms\n",
      "2:\tlearn: 1.2202081\ttest: 1.3320256\tbest: 1.3320256 (2)\ttotal: 92.2ms\tremaining: 830ms\n",
      "3:\tlearn: 1.1323737\ttest: 1.2613613\tbest: 1.2613613 (3)\ttotal: 124ms\tremaining: 804ms\n",
      "4:\tlearn: 1.0799921\ttest: 1.2415714\tbest: 1.2415714 (4)\ttotal: 151ms\tremaining: 756ms\n",
      "5:\tlearn: 1.0262965\ttest: 1.2253608\tbest: 1.2253608 (5)\ttotal: 180ms\tremaining: 721ms\n",
      "6:\tlearn: 0.9699305\ttest: 1.1949114\tbest: 1.1949114 (6)\ttotal: 212ms\tremaining: 695ms\n",
      "7:\tlearn: 0.9204620\ttest: 1.1624453\tbest: 1.1624453 (7)\ttotal: 239ms\tremaining: 656ms\n",
      "8:\tlearn: 0.8748685\ttest: 1.1238489\tbest: 1.1238489 (8)\ttotal: 267ms\tremaining: 622ms\n",
      "9:\tlearn: 0.8402588\ttest: 1.1033707\tbest: 1.1033707 (9)\ttotal: 309ms\tremaining: 618ms\n",
      "10:\tlearn: 0.7912615\ttest: 1.0624828\tbest: 1.0624828 (10)\ttotal: 345ms\tremaining: 595ms\n",
      "11:\tlearn: 0.7625380\ttest: 1.0389824\tbest: 1.0389824 (11)\ttotal: 386ms\tremaining: 578ms\n",
      "12:\tlearn: 0.7215570\ttest: 1.0186796\tbest: 1.0186796 (12)\ttotal: 416ms\tremaining: 544ms\n",
      "13:\tlearn: 0.6893931\ttest: 1.0020514\tbest: 1.0020514 (13)\ttotal: 466ms\tremaining: 532ms\n",
      "14:\tlearn: 0.6674283\ttest: 0.9885610\tbest: 0.9885610 (14)\ttotal: 502ms\tremaining: 502ms\n",
      "15:\tlearn: 0.6371794\ttest: 0.9808297\tbest: 0.9808297 (15)\ttotal: 536ms\tremaining: 469ms\n",
      "16:\tlearn: 0.6080768\ttest: 0.9598757\tbest: 0.9598757 (16)\ttotal: 564ms\tremaining: 431ms\n",
      "17:\tlearn: 0.5819797\ttest: 0.9412118\tbest: 0.9412118 (17)\ttotal: 589ms\tremaining: 393ms\n",
      "18:\tlearn: 0.5556838\ttest: 0.9281220\tbest: 0.9281220 (18)\ttotal: 623ms\tremaining: 361ms\n",
      "19:\tlearn: 0.5277195\ttest: 0.9193569\tbest: 0.9193569 (19)\ttotal: 658ms\tremaining: 329ms\n",
      "20:\tlearn: 0.5071080\ttest: 0.9042827\tbest: 0.9042827 (20)\ttotal: 685ms\tremaining: 293ms\n",
      "21:\tlearn: 0.4837375\ttest: 0.8927640\tbest: 0.8927640 (21)\ttotal: 711ms\tremaining: 259ms\n",
      "22:\tlearn: 0.4653774\ttest: 0.8826226\tbest: 0.8826226 (22)\ttotal: 741ms\tremaining: 226ms\n",
      "23:\tlearn: 0.4450132\ttest: 0.8688329\tbest: 0.8688329 (23)\ttotal: 770ms\tremaining: 193ms\n",
      "24:\tlearn: 0.4327422\ttest: 0.8609661\tbest: 0.8609661 (24)\ttotal: 806ms\tremaining: 161ms\n",
      "25:\tlearn: 0.4167696\ttest: 0.8568937\tbest: 0.8568937 (25)\ttotal: 847ms\tremaining: 130ms\n",
      "26:\tlearn: 0.3977036\ttest: 0.8442391\tbest: 0.8442391 (26)\ttotal: 873ms\tremaining: 97ms\n",
      "27:\tlearn: 0.3883355\ttest: 0.8407422\tbest: 0.8407422 (27)\ttotal: 900ms\tremaining: 64.3ms\n",
      "28:\tlearn: 0.3758579\ttest: 0.8355190\tbest: 0.8355190 (28)\ttotal: 930ms\tremaining: 32.1ms\n",
      "29:\tlearn: 0.3692027\ttest: 0.8345455\tbest: 0.8345455 (29)\ttotal: 958ms\tremaining: 0us\n",
      "\n",
      "bestTest = 0.8345455298\n",
      "bestIteration = 29\n",
      "\n"
     ]
    },
    {
     "data": {
      "text/plain": [
       "0.7233333333333334"
      ]
     },
     "execution_count": 17,
     "metadata": {},
     "output_type": "execute_result"
    }
   ],
   "source": [
    "from catboost import CatBoostClassifier\n",
    "model=CatBoostClassifier(iterations=30)\n",
    "\n",
    "model.fit(x_train, y_train, eval_set=(x_test, y_test))\n",
    "model.score(x_test, y_test)"
   ]
  },
  {
   "cell_type": "markdown",
   "metadata": {},
   "source": [
    "> # Task #5 (5 mins)\n",
    "\n",
    "Apply CatBoostRegressor on regression dataset and check score"
   ]
  },
  {
   "cell_type": "markdown",
   "metadata": {},
   "source": [
    "# K-Fold Cross-Validation\n",
    "Cross-validation is a resampling procedure used to evaluate machine learning models on a limited data sample.\n",
    "\n",
    "The procedure has a single parameter called k that refers to the number of groups that a given data sample is to be split into. As such, the procedure is often called k-fold cross-validation. When a specific value for k is chosen, it may be used in place of k in the reference to the model, such as k=10 becoming 10-fold cross-validation.\n",
    "\n",
    "The choice of k is usually 5 or 10, but there is no formal rule.\n",
    "\n",
    "\n",
    "<img src='img/cv.png' width='450'>\n"
   ]
  },
  {
   "cell_type": "markdown",
   "metadata": {},
   "source": [
    "# Grid Search\n",
    "\n",
    "A model hyperparameter is a characteristic of a model that is external to the model and whose value cannot be estimated from data. The value of the hyperparameter has to be set before the learning process begins. \n",
    "\n",
    "Grid-search is used to find the optimal hyperparameters of a model which results in the most ‘accurate’ predictions."
   ]
  },
  {
   "cell_type": "code",
   "execution_count": 15,
   "metadata": {},
   "outputs": [
    {
     "name": "stdout",
     "output_type": "stream",
     "text": [
      "XGBClassifier(base_score=None, booster=None, colsample_bylevel=None,\n",
      "              colsample_bynode=None, colsample_bytree=None, gamma=None,\n",
      "              gpu_id=None, importance_type='gain', interaction_constraints=None,\n",
      "              learning_rate=None, max_delta_step=None, max_depth=None,\n",
      "              min_child_weight=None, missing=nan, monotone_constraints=None,\n",
      "              n_estimators=100, n_jobs=None, num_parallel_tree=None,\n",
      "              objective='binary:logistic', random_state=None, reg_alpha=None,\n",
      "              reg_lambda=None, scale_pos_weight=None, subsample=None,\n",
      "              tree_method=None, validate_parameters=False, verbosity=None)\n",
      "Fitting 5 folds for each of 18 candidates, totalling 90 fits\n"
     ]
    },
    {
     "name": "stderr",
     "output_type": "stream",
     "text": [
      "[Parallel(n_jobs=1)]: Using backend SequentialBackend with 1 concurrent workers.\n",
      "[Parallel(n_jobs=1)]: Done  90 out of  90 | elapsed:   53.6s finished\n"
     ]
    },
    {
     "name": "stdout",
     "output_type": "stream",
     "text": [
      "Best score: 0.6885714285714286\n",
      "Best parameters >>> {'max_depth': 5, 'min_child_weight': 3, 'n_estimators': 100}\n"
     ]
    },
    {
     "data": {
      "text/plain": [
       "0.7"
      ]
     },
     "execution_count": 15,
     "metadata": {},
     "output_type": "execute_result"
    }
   ],
   "source": [
    "from sklearn.model_selection import GridSearchCV\n",
    "from xgboost import XGBClassifier, XGBRegressor\n",
    "\n",
    "model=XGBClassifier()\n",
    "params = {'min_child_weight': [1, 3],\n",
    "          'n_estimators': [10, 50, 100],\n",
    "          'max_depth': [5, 7, 9],\n",
    "         }\n",
    "\n",
    "print(model)\n",
    "grid = GridSearchCV(model, param_grid=params, scoring='accuracy', cv=5, verbose=1)\n",
    "grid.fit(x_train, y_train)\n",
    "\n",
    "# print information\n",
    "print(f'Best score: {grid.best_score_}')\n",
    "print(f'Best parameters >>> {grid.best_params_}')\n",
    "\n",
    "grid.score(x_test, y_test)"
   ]
  },
  {
   "cell_type": "markdown",
   "metadata": {},
   "source": [
    "> # Assignment (grid search):\n",
    "**Do hyperparameter tuning using Grid Search-**\n",
    "1. Xgboost Regressor\n",
    "2. Light GBM Regressor\n",
    "3. CatBoost Regressor\n",
    "\n",
    "Email assignment at nurulaktertowhid@gmail.com\n",
    "\n",
    "**Email Subject : Assignment (grid search) \"Your Name\"**\n",
    "\n",
    "**Deadline : 24th July 2020 (7PM)**"
   ]
  },
  {
   "cell_type": "code",
   "execution_count": null,
   "metadata": {},
   "outputs": [],
   "source": []
  }
 ],
 "metadata": {
  "kernelspec": {
   "display_name": "Python 3",
   "language": "python",
   "name": "python3"
  },
  "language_info": {
   "codemirror_mode": {
    "name": "ipython",
    "version": 3
   },
   "file_extension": ".py",
   "mimetype": "text/x-python",
   "name": "python",
   "nbconvert_exporter": "python",
   "pygments_lexer": "ipython3",
   "version": "3.7.2"
  }
 },
 "nbformat": 4,
 "nbformat_minor": 4
}
