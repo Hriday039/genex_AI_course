{
 "cells": [
  {
   "cell_type": "markdown",
   "metadata": {},
   "source": [
    "# Ensemble Learning\n",
    "\n",
    "> \"একতাই শক্তি\" \n",
    "\n",
    "This old saying expresses pretty well the underlying idea that rules the very powerful “ensemble methods” in machine learning. \n",
    "\n",
    "Ensemble learning is a machine learning paradigm where multiple models (often called **“weak learners”**) are trained to solve the same problem and combined to get better results. The main hypothesis is that when weak models are correctly combined we can obtain more accurate and/or robust models.\n",
    "\n",
    "Roughly, ensemble learning methods, that often trust the top rankings of many machine learning competitions (including Kaggle’s competitions), are based on the hypothesis that combining multiple models together can often produce a much more powerful model."
   ]
  },
  {
   "cell_type": "markdown",
   "metadata": {},
   "source": [
    "# Different types of Ensemble Learning techniques\n",
    "\n",
    "There are simple and advanced ensemble learning techniques.\n",
    "\n",
    "**1. Simple:**\n",
    "    1. Max Voting\n",
    "    2. Averaging\n",
    "    3. Weighted Averaging\n",
    "**2. Advanced:**\n",
    "    1. Bagging\n",
    "    2. Boosting"
   ]
  },
  {
   "cell_type": "markdown",
   "metadata": {},
   "source": [
    "# Synthetic Dataset Generation"
   ]
  },
  {
   "cell_type": "code",
   "execution_count": 1,
   "metadata": {},
   "outputs": [
    {
     "name": "stdout",
     "output_type": "stream",
     "text": [
      "(1000, 20) (1000, 20)\n"
     ]
    }
   ],
   "source": [
    "# dataset\n",
    "from sklearn.datasets import make_classification\n",
    "from sklearn.datasets import make_regression\n",
    "\n",
    "\n",
    "# define dataset\n",
    "reg_X, reg_y = make_regression(n_samples=1000, n_features=20, n_informative=12, \n",
    "                               noise=0.1, random_state=5)\n",
    "\n",
    "# define dataset\n",
    "cls_X, cls_y = make_classification(n_samples=1000, n_features=20, n_informative=12, \n",
    "                                   n_classes=5, n_redundant=6, random_state=5)\n",
    "# summarize the dataset\n",
    "print(reg_X.shape, cls_X.shape)"
   ]
  },
  {
   "cell_type": "code",
   "execution_count": 2,
   "metadata": {},
   "outputs": [],
   "source": [
    "# train & test\n",
    "x_train = cls_X[:700]\n",
    "y_train = cls_y[:700]\n",
    "\n",
    "x_test = cls_X[700:]\n",
    "y_test = cls_y[700:]"
   ]
  },
  {
   "cell_type": "markdown",
   "metadata": {},
   "source": [
    "# Max Voting\n",
    "\n",
    "The max voting method is generally used for classification problems. In this technique, multiple models are used to make predictions for each data point. The predictions by each model are considered as a `vote`. The predictions which we get from the majority of the models are used as the final prediction.\n",
    "\n",
    "<img src='img/majority_voting.png' width='400'>"
   ]
  },
  {
   "cell_type": "code",
   "execution_count": 3,
   "metadata": {},
   "outputs": [
    {
     "name": "stdout",
     "output_type": "stream",
     "text": [
      "result : \n",
      "model1 accuracy 0.51\n",
      "model2 accuracy 0.6933333333333334\n",
      "model3 accuracy 0.55\n",
      "Max Voting accuracy 0.6566666666666666\n"
     ]
    }
   ],
   "source": [
    "from scipy.stats import mode\n",
    "from sklearn.metrics import accuracy_score\n",
    "import numpy as np\n",
    "\n",
    "# For ML\n",
    "from sklearn import tree\n",
    "from sklearn.neighbors import KNeighborsClassifier\n",
    "from sklearn.linear_model import LogisticRegression\n",
    "\n",
    "\n",
    "model1 = tree.DecisionTreeClassifier()\n",
    "model2 = KNeighborsClassifier()\n",
    "model3= LogisticRegression()\n",
    "\n",
    "model1.fit(x_train,y_train)\n",
    "model2.fit(x_train,y_train)\n",
    "model3.fit(x_train,y_train)\n",
    "\n",
    "pred1=model1.predict(x_test)\n",
    "pred2=model2.predict(x_test)\n",
    "pred3=model3.predict(x_test)\n",
    "\n",
    "final_pred = []\n",
    "for i in range(0,len(x_test)):\n",
    "    final_pred.append(mode([pred1[i], pred2[i], pred3[i]])[0])\n",
    "    \n",
    "print(\"result : \")\n",
    "print(f\"model1 accuracy { accuracy_score(y_test, pred1) }\")\n",
    "print(f\"model2 accuracy { accuracy_score(y_test, pred2) }\")\n",
    "print(f\"model3 accuracy { accuracy_score(y_test, pred3) }\")\n",
    "\n",
    "print(f\"Max Voting accuracy { accuracy_score(y_test, final_pred) }\")"
   ]
  },
  {
   "cell_type": "markdown",
   "metadata": {},
   "source": [
    "# Averaging\n",
    "Similar to the max voting technique, multiple predictions are made for each data point in averaging. In this method, we take an average of predictions from all the models and use it to make the final prediction. Averaging can be used for making predictions in regression problems or while calculating probabilities for classification problems.\n",
    "\n",
    "<img src='img/average.png' width='400'>"
   ]
  },
  {
   "cell_type": "code",
   "execution_count": 4,
   "metadata": {},
   "outputs": [
    {
     "name": "stdout",
     "output_type": "stream",
     "text": [
      "result : \n",
      "model1 accuracy 0.49\n",
      "model2 accuracy 0.6933333333333334\n",
      "model3 accuracy 0.55\n",
      "Avg. accuracy 0.56\n"
     ]
    }
   ],
   "source": [
    "model1 = tree.DecisionTreeClassifier()\n",
    "model2 = KNeighborsClassifier()\n",
    "model3= LogisticRegression()\n",
    "\n",
    "model1.fit(x_train,y_train)\n",
    "model2.fit(x_train,y_train)\n",
    "model3.fit(x_train,y_train)\n",
    "\n",
    "pred1=model1.predict_proba(x_test)\n",
    "pred2=model2.predict_proba(x_test)\n",
    "pred3=model3.predict_proba(x_test)\n",
    "\n",
    "finalpred=(pred1+pred2+pred3)/3\n",
    "\n",
    "print(\"result : \")\n",
    "print(f\"model1 accuracy { accuracy_score(y_test, np.argmax(pred1, axis=1)) }\")\n",
    "print(f\"model2 accuracy { accuracy_score(y_test, np.argmax(pred2, axis=1)) }\")\n",
    "print(f\"model3 accuracy { accuracy_score(y_test, np.argmax(pred3, axis=1)) }\")\n",
    "\n",
    "print(f\"Avg. accuracy { accuracy_score(y_test, np.argmax(finalpred, axis=1)) }\")"
   ]
  },
  {
   "cell_type": "markdown",
   "metadata": {},
   "source": [
    "# Weighted Average\n",
    "\n",
    "This is an extension of the averaging method. All models are assigned different weights defining the importance of each model for prediction.\n",
    "\n",
    "<img src='img/weighted-unweighted.png' width='450'>"
   ]
  },
  {
   "cell_type": "code",
   "execution_count": 5,
   "metadata": {},
   "outputs": [
    {
     "name": "stdout",
     "output_type": "stream",
     "text": [
      "result : \n",
      "model1 accuracy 0.4766666666666667\n",
      "model2 accuracy 0.6933333333333334\n",
      "model3 accuracy 0.55\n",
      "w. avg. accuracy 0.68\n"
     ]
    }
   ],
   "source": [
    "model1 = tree.DecisionTreeClassifier()\n",
    "model2 = KNeighborsClassifier()\n",
    "model3= LogisticRegression()\n",
    "\n",
    "model1.fit(x_train,y_train)\n",
    "model2.fit(x_train,y_train)\n",
    "model3.fit(x_train,y_train)\n",
    "\n",
    "pred1=model1.predict_proba(x_test)\n",
    "pred2=model2.predict_proba(x_test)\n",
    "pred3=model3.predict_proba(x_test)\n",
    "\n",
    "finalpred=(pred1*0.2 + pred2*0.5 + pred3*0.3)\n",
    "\n",
    "print(\"result : \")\n",
    "print(f\"model1 accuracy { accuracy_score(y_test, np.argmax(pred1, axis=1)) }\")\n",
    "print(f\"model2 accuracy { accuracy_score(y_test, np.argmax(pred2, axis=1)) }\")\n",
    "print(f\"model3 accuracy { accuracy_score(y_test, np.argmax(pred3, axis=1)) }\")\n",
    "\n",
    "print(f\"w. avg. accuracy { accuracy_score(y_test, np.argmax(finalpred, axis=1)) }\")"
   ]
  },
  {
   "cell_type": "markdown",
   "metadata": {},
   "source": [
    "> # Task #1 (8 mins)\n",
    "\n",
    "1. Make a Synthetic Dataset for classification with n_classes = 4\n",
    "2. Try Max Voting Ensemble Learning techniques on that dataset"
   ]
  },
  {
   "cell_type": "code",
   "execution_count": null,
   "metadata": {},
   "outputs": [],
   "source": []
  },
  {
   "cell_type": "markdown",
   "metadata": {},
   "source": [
    "# Advanced Ensemble techniques\n",
    "Let’s move on to understanding the advanced techniques\n",
    "\n",
    "1. Bagging\n",
    "2. Boosting"
   ]
  },
  {
   "cell_type": "markdown",
   "metadata": {},
   "source": [
    "# Bagging\n",
    "\n",
    "The idea behind bagging is combining the results of multiple models (for instance, all decision trees) to get a generalized result. Here’s a question: If you create all the models on the same set of data and combine it, will it be useful? There is a high chance that these models will give the same result since they are getting the same input. \n",
    "\n",
    "So how can we solve this problem? One of the techniques is bootstrapping.\n",
    "\n",
    "Bootstrapping is a sampling technique in which we create subsets of observations from the original dataset, **with replacement / replica**. \n",
    "\n",
    "<img src='img/bootstrap.png' width='350'>\n",
    "\n",
    "Bagging <  **\"Bootstrap Aggregation\"** \n",
    "\n",
    "\n",
    "<img src='img/bagging1.png' width='650'>\n",
    "\n",
    "\n",
    "**Bagging algorithms:**\n",
    "\n",
    "1. Bagging meta-estimator\n",
    "2. Random forest\n",
    "\n",
    "\n",
    "## Bagging meta-estimator\n",
    "\n",
    "Bagging meta-estimator is an ensembling algorithm that can be used for both classification (BaggingClassifier) and regression (BaggingRegressor) problems. It follows the typical bagging technique to make predictions. Following are the steps for the bagging meta-estimator algorithm:\n",
    "\n",
    "Random subsets are created from the original dataset (Bootstrapping).\n",
    "The subset of the dataset includes all features.\n",
    "A user-specified base estimator is fitted on each of these smaller sets.\n",
    "Predictions from each model are combined to get the final result.\n",
    "\n"
   ]
  },
  {
   "cell_type": "code",
   "execution_count": 6,
   "metadata": {},
   "outputs": [
    {
     "data": {
      "text/plain": [
       "0.6066666666666667"
      ]
     },
     "execution_count": 6,
     "metadata": {},
     "output_type": "execute_result"
    }
   ],
   "source": [
    "from sklearn.ensemble import BaggingClassifier\n",
    "from sklearn.ensemble import BaggingRegressor\n",
    "from sklearn import tree\n",
    "\n",
    "model = BaggingClassifier(n_estimators=5)\n",
    "\n",
    "model.fit(x_train, y_train)\n",
    "model.score(x_test,y_test)"
   ]
  },
  {
   "cell_type": "code",
   "execution_count": 7,
   "metadata": {},
   "outputs": [
    {
     "data": {
      "text/plain": [
       "0.7"
      ]
     },
     "execution_count": 7,
     "metadata": {},
     "output_type": "execute_result"
    }
   ],
   "source": [
    "# KNN \n",
    "model = BaggingClassifier(base_estimator=KNeighborsClassifier(), \n",
    "                          n_estimators=30)\n",
    "model.fit(x_train, y_train)\n",
    "model.score(x_test,y_test)"
   ]
  },
  {
   "cell_type": "code",
   "execution_count": 8,
   "metadata": {},
   "outputs": [
    {
     "data": {
      "text/plain": [
       "0.59"
      ]
     },
     "execution_count": 8,
     "metadata": {},
     "output_type": "execute_result"
    }
   ],
   "source": [
    "from sklearn.ensemble import RandomForestClassifier\n",
    "\n",
    "model = RandomForestClassifier(n_estimators=10)\n",
    "\n",
    "model.fit(x_train, y_train)\n",
    "model.score(x_test,y_test)"
   ]
  },
  {
   "cell_type": "code",
   "execution_count": 9,
   "metadata": {},
   "outputs": [],
   "source": [
    "# train & test for regression\n",
    "Rx_train = reg_X[:700]\n",
    "Ry_train = reg_y[:700]\n",
    "\n",
    "Rx_test = reg_X[700:]\n",
    "Ry_test = reg_y[700:]"
   ]
  },
  {
   "cell_type": "markdown",
   "metadata": {},
   "source": [
    "> # Task #2 (5 mins)\n",
    "1. Use Bagging meta-estimator for regression"
   ]
  },
  {
   "cell_type": "code",
   "execution_count": 10,
   "metadata": {},
   "outputs": [],
   "source": [
    "# code here task #2\n"
   ]
  },
  {
   "cell_type": "markdown",
   "metadata": {},
   "source": [
    "# Boosting\n",
    "\n",
    "Before we go further, here’s another question for you: If a data point is incorrectly predicted by the first model, and then the next (probably all models), will combining the predictions provide better results? Such situations are taken care of by boosting.\n",
    "\n",
    "Boosting is a sequential process, where each subsequent model attempts to correct the errors of the previous model. The succeeding models are dependent on the previous model. Let’s understand the way boosting works in the below steps.\n",
    "\n",
    "1. First, generate Random Sample from Training Data-set.\n",
    "2. Now, Train a classifier model 1 for this generated sample data and test the whole training data-set.\n",
    "3. Now, Calculate the error for each instance prediction. if the instance is classified wrongly, increase the weight for that instance and create another sample.\n",
    "4. Repeat this process until you get high accuracy from the system.\n",
    "\n",
    "<img src='img/boosting.png' width='550'>\n",
    "\n",
    "Some boosting algorithms: \n",
    "\n",
    "1. XGBoost\n",
    "2. Light GBM\n",
    "3. CatBoost\n",
    "\n",
    "<img src='img/history.png' width='650'>\n"
   ]
  },
  {
   "cell_type": "markdown",
   "metadata": {},
   "source": [
    "# XGBoost\n",
    "\n",
    "XGBoost stands for eXtreme Gradient Boosting.\n",
    "\n",
    "XGBoost (extreme Gradient Boosting) is an advanced implementation of the gradient boosting algorithm. XGBoost has proved to be a highly effective ML algorithm, extensively used in machine learning competitions and hackathons. XGBoost has high predictive power and is almost 10 times faster than the other gradient boosting techniques. It also includes a variety of regularization which reduces overfitting and improves overall performance. Hence it is also known as **regularized boosting** technique."
   ]
  },
  {
   "cell_type": "code",
   "execution_count": 11,
   "metadata": {},
   "outputs": [
    {
     "data": {
      "text/plain": [
       "0.6933333333333334"
      ]
     },
     "execution_count": 11,
     "metadata": {},
     "output_type": "execute_result"
    }
   ],
   "source": [
    "from xgboost import XGBClassifier, XGBRegressor\n",
    "\n",
    "model=XGBClassifier()\n",
    "\n",
    "model.fit(x_train, y_train)\n",
    "model.score(x_test,y_test)"
   ]
  },
  {
   "cell_type": "markdown",
   "metadata": {},
   "source": [
    "> # Task #3 (5 mins)\n",
    "\n",
    "Apply XGBRegressor on regression dataset and check score"
   ]
  },
  {
   "cell_type": "code",
   "execution_count": 12,
   "metadata": {},
   "outputs": [],
   "source": [
    "# task #3 "
   ]
  },
  {
   "cell_type": "markdown",
   "metadata": {},
   "source": [
    "# Light GBM\n",
    "\n",
    "Before discussing how Light GBM works, let’s first understand why we need this algorithm when we have so many others (like the ones we have seen above). Light GBM beats all the other algorithms when the dataset is extremely large. Compared to the other algorithms, Light GBM takes lesser time to run on a huge dataset.\n",
    "\n",
    "LightGBM is a gradient boosting framework that uses tree-based algorithms and follows leaf-wise approach while other algorithms work in a level-wise approach pattern. The images below will help you understand the difference in a better way.\n",
    "\n",
    "<img src='img/light.png' width='450'>"
   ]
  },
  {
   "cell_type": "code",
   "execution_count": 13,
   "metadata": {},
   "outputs": [
    {
     "name": "stdout",
     "output_type": "stream",
     "text": [
      "[1]\tvalid_0's multi_logloss: 1.55608\n",
      "[2]\tvalid_0's multi_logloss: 1.50038\n",
      "[3]\tvalid_0's multi_logloss: 1.44956\n",
      "[4]\tvalid_0's multi_logloss: 1.40209\n",
      "[5]\tvalid_0's multi_logloss: 1.36048\n",
      "[6]\tvalid_0's multi_logloss: 1.32227\n",
      "[7]\tvalid_0's multi_logloss: 1.28969\n",
      "[8]\tvalid_0's multi_logloss: 1.25992\n",
      "[9]\tvalid_0's multi_logloss: 1.22988\n",
      "[10]\tvalid_0's multi_logloss: 1.20254\n",
      "[11]\tvalid_0's multi_logloss: 1.1805\n",
      "[12]\tvalid_0's multi_logloss: 1.15519\n",
      "[13]\tvalid_0's multi_logloss: 1.13834\n",
      "[14]\tvalid_0's multi_logloss: 1.11996\n",
      "[15]\tvalid_0's multi_logloss: 1.10142\n",
      "[16]\tvalid_0's multi_logloss: 1.0873\n",
      "[17]\tvalid_0's multi_logloss: 1.07291\n",
      "[18]\tvalid_0's multi_logloss: 1.06033\n",
      "[19]\tvalid_0's multi_logloss: 1.04948\n",
      "[20]\tvalid_0's multi_logloss: 1.03693\n",
      "[21]\tvalid_0's multi_logloss: 1.0245\n",
      "[22]\tvalid_0's multi_logloss: 1.01167\n",
      "[23]\tvalid_0's multi_logloss: 0.999995\n",
      "[24]\tvalid_0's multi_logloss: 0.990029\n",
      "[25]\tvalid_0's multi_logloss: 0.979912\n",
      "[26]\tvalid_0's multi_logloss: 0.970825\n",
      "[27]\tvalid_0's multi_logloss: 0.963646\n",
      "[28]\tvalid_0's multi_logloss: 0.954648\n",
      "[29]\tvalid_0's multi_logloss: 0.952662\n",
      "[30]\tvalid_0's multi_logloss: 0.945802\n",
      "[31]\tvalid_0's multi_logloss: 0.938448\n",
      "[32]\tvalid_0's multi_logloss: 0.930427\n",
      "[33]\tvalid_0's multi_logloss: 0.922816\n",
      "[34]\tvalid_0's multi_logloss: 0.916153\n",
      "[35]\tvalid_0's multi_logloss: 0.908038\n",
      "[36]\tvalid_0's multi_logloss: 0.9039\n",
      "[37]\tvalid_0's multi_logloss: 0.899824\n",
      "[38]\tvalid_0's multi_logloss: 0.895459\n",
      "[39]\tvalid_0's multi_logloss: 0.887098\n",
      "[40]\tvalid_0's multi_logloss: 0.883697\n",
      "[41]\tvalid_0's multi_logloss: 0.878851\n",
      "[42]\tvalid_0's multi_logloss: 0.87519\n",
      "[43]\tvalid_0's multi_logloss: 0.871794\n",
      "[44]\tvalid_0's multi_logloss: 0.866096\n",
      "[45]\tvalid_0's multi_logloss: 0.863057\n",
      "[46]\tvalid_0's multi_logloss: 0.861897\n",
      "[47]\tvalid_0's multi_logloss: 0.856406\n",
      "[48]\tvalid_0's multi_logloss: 0.851339\n",
      "[49]\tvalid_0's multi_logloss: 0.847929\n",
      "[50]\tvalid_0's multi_logloss: 0.846596\n",
      "[51]\tvalid_0's multi_logloss: 0.844642\n",
      "[52]\tvalid_0's multi_logloss: 0.842491\n",
      "[53]\tvalid_0's multi_logloss: 0.84089\n",
      "[54]\tvalid_0's multi_logloss: 0.837784\n",
      "[55]\tvalid_0's multi_logloss: 0.833887\n",
      "[56]\tvalid_0's multi_logloss: 0.834683\n",
      "[57]\tvalid_0's multi_logloss: 0.833032\n",
      "[58]\tvalid_0's multi_logloss: 0.833729\n",
      "[59]\tvalid_0's multi_logloss: 0.832467\n",
      "[60]\tvalid_0's multi_logloss: 0.829898\n",
      "[61]\tvalid_0's multi_logloss: 0.829783\n",
      "[62]\tvalid_0's multi_logloss: 0.828274\n",
      "[63]\tvalid_0's multi_logloss: 0.82724\n",
      "[64]\tvalid_0's multi_logloss: 0.82423\n",
      "[65]\tvalid_0's multi_logloss: 0.823246\n",
      "[66]\tvalid_0's multi_logloss: 0.821448\n",
      "[67]\tvalid_0's multi_logloss: 0.818072\n",
      "[68]\tvalid_0's multi_logloss: 0.818898\n",
      "[69]\tvalid_0's multi_logloss: 0.817505\n",
      "[70]\tvalid_0's multi_logloss: 0.815843\n",
      "[71]\tvalid_0's multi_logloss: 0.815814\n",
      "[72]\tvalid_0's multi_logloss: 0.816511\n",
      "[73]\tvalid_0's multi_logloss: 0.814776\n",
      "[74]\tvalid_0's multi_logloss: 0.814985\n",
      "[75]\tvalid_0's multi_logloss: 0.813506\n",
      "[76]\tvalid_0's multi_logloss: 0.811331\n",
      "[77]\tvalid_0's multi_logloss: 0.810987\n",
      "[78]\tvalid_0's multi_logloss: 0.80931\n",
      "[79]\tvalid_0's multi_logloss: 0.808927\n",
      "[80]\tvalid_0's multi_logloss: 0.810192\n",
      "[81]\tvalid_0's multi_logloss: 0.808928\n",
      "[82]\tvalid_0's multi_logloss: 0.807358\n",
      "[83]\tvalid_0's multi_logloss: 0.808027\n",
      "[84]\tvalid_0's multi_logloss: 0.807428\n",
      "[85]\tvalid_0's multi_logloss: 0.80684\n",
      "[86]\tvalid_0's multi_logloss: 0.805714\n",
      "[87]\tvalid_0's multi_logloss: 0.80324\n",
      "[88]\tvalid_0's multi_logloss: 0.80347\n",
      "[89]\tvalid_0's multi_logloss: 0.803281\n",
      "[90]\tvalid_0's multi_logloss: 0.802981\n",
      "[91]\tvalid_0's multi_logloss: 0.804137\n",
      "[92]\tvalid_0's multi_logloss: 0.803221\n",
      "[93]\tvalid_0's multi_logloss: 0.80291\n",
      "[94]\tvalid_0's multi_logloss: 0.804826\n",
      "[95]\tvalid_0's multi_logloss: 0.803618\n",
      "[96]\tvalid_0's multi_logloss: 0.803475\n",
      "[97]\tvalid_0's multi_logloss: 0.805365\n",
      "[98]\tvalid_0's multi_logloss: 0.804009\n",
      "[99]\tvalid_0's multi_logloss: 0.802569\n",
      "[100]\tvalid_0's multi_logloss: 0.802516\n"
     ]
    },
    {
     "data": {
      "text/plain": [
       "0.71"
      ]
     },
     "execution_count": 13,
     "metadata": {},
     "output_type": "execute_result"
    }
   ],
   "source": [
    "from lightgbm import LGBMClassifier, LGBMRegressor\n",
    "\n",
    "model = LGBMClassifier()\n",
    "\n",
    "model.fit(x_train, y_train, eval_set=(x_test, y_test))\n",
    "model.score(x_test,y_test)"
   ]
  },
  {
   "cell_type": "markdown",
   "metadata": {},
   "source": [
    "> # Task #4 (5 mins)\n",
    "\n",
    "Apply LGBMRegressor on regression dataset and check score"
   ]
  },
  {
   "cell_type": "code",
   "execution_count": 14,
   "metadata": {},
   "outputs": [],
   "source": [
    "# task #4"
   ]
  },
  {
   "cell_type": "markdown",
   "metadata": {},
   "source": [
    "# CatBoost\n",
    "\n",
    "`CatBoost` name comes from two words `Category` and `Boosting`.\n",
    "\n",
    "Handling categorical variables is a tedious process, especially when you have a large number of such variables. When your categorical variables have too many labels (i.e. they are highly cardinal), performing one-hot-encoding on them exponentially increases the dimensionality and it becomes really difficult to work with the dataset.\n",
    "\n",
    "CatBoost can automatically deal with categorical variables and does not require extensive data preprocessing like other machine learning algorithms."
   ]
  },
  {
   "cell_type": "code",
   "execution_count": 17,
   "metadata": {
    "scrolled": false
   },
   "outputs": [
    {
     "name": "stdout",
     "output_type": "stream",
     "text": [
      "Learning rate set to 0.258363\n",
      "0:\tlearn: 1.5000774\ttest: 1.5286187\tbest: 1.5286187 (0)\ttotal: 33.1ms\tremaining: 3.28s\n",
      "1:\tlearn: 1.4113593\ttest: 1.4620209\tbest: 1.4620209 (1)\ttotal: 58.4ms\tremaining: 2.86s\n",
      "2:\tlearn: 1.3316473\ttest: 1.4063081\tbest: 1.4063081 (2)\ttotal: 90.9ms\tremaining: 2.94s\n",
      "3:\tlearn: 1.2722349\ttest: 1.3643080\tbest: 1.3643080 (3)\ttotal: 118ms\tremaining: 2.84s\n",
      "4:\tlearn: 1.2299142\ttest: 1.3448476\tbest: 1.3448476 (4)\ttotal: 146ms\tremaining: 2.77s\n",
      "5:\tlearn: 1.1813069\ttest: 1.3197028\tbest: 1.3197028 (5)\ttotal: 176ms\tremaining: 2.76s\n",
      "6:\tlearn: 1.1367288\ttest: 1.3001801\tbest: 1.3001801 (6)\ttotal: 206ms\tremaining: 2.74s\n",
      "7:\tlearn: 1.0957773\ttest: 1.2715911\tbest: 1.2715911 (7)\ttotal: 250ms\tremaining: 2.87s\n",
      "8:\tlearn: 1.0511330\ttest: 1.2400055\tbest: 1.2400055 (8)\ttotal: 281ms\tremaining: 2.84s\n",
      "9:\tlearn: 1.0209937\ttest: 1.2212348\tbest: 1.2212348 (9)\ttotal: 317ms\tremaining: 2.85s\n",
      "10:\tlearn: 0.9773670\ttest: 1.1974279\tbest: 1.1974279 (10)\ttotal: 347ms\tremaining: 2.8s\n",
      "11:\tlearn: 0.9514009\ttest: 1.1849413\tbest: 1.1849413 (11)\ttotal: 372ms\tremaining: 2.73s\n",
      "12:\tlearn: 0.9194263\ttest: 1.1580705\tbest: 1.1580705 (12)\ttotal: 405ms\tremaining: 2.71s\n",
      "13:\tlearn: 0.8853580\ttest: 1.1326783\tbest: 1.1326783 (13)\ttotal: 438ms\tremaining: 2.69s\n",
      "14:\tlearn: 0.8601379\ttest: 1.1213209\tbest: 1.1213209 (14)\ttotal: 463ms\tremaining: 2.63s\n",
      "15:\tlearn: 0.8341705\ttest: 1.1073172\tbest: 1.1073172 (15)\ttotal: 489ms\tremaining: 2.57s\n",
      "16:\tlearn: 0.8081650\ttest: 1.0880519\tbest: 1.0880519 (16)\ttotal: 516ms\tremaining: 2.52s\n",
      "17:\tlearn: 0.7825691\ttest: 1.0663897\tbest: 1.0663897 (17)\ttotal: 542ms\tremaining: 2.47s\n",
      "18:\tlearn: 0.7622514\ttest: 1.0534558\tbest: 1.0534558 (18)\ttotal: 567ms\tremaining: 2.42s\n",
      "19:\tlearn: 0.7434787\ttest: 1.0446700\tbest: 1.0446700 (19)\ttotal: 599ms\tremaining: 2.39s\n",
      "20:\tlearn: 0.7178683\ttest: 1.0243206\tbest: 1.0243206 (20)\ttotal: 632ms\tremaining: 2.38s\n",
      "21:\tlearn: 0.6983961\ttest: 1.0123628\tbest: 1.0123628 (21)\ttotal: 658ms\tremaining: 2.33s\n",
      "22:\tlearn: 0.6849558\ttest: 1.0030156\tbest: 1.0030156 (22)\ttotal: 684ms\tremaining: 2.29s\n",
      "23:\tlearn: 0.6668670\ttest: 0.9899082\tbest: 0.9899082 (23)\ttotal: 709ms\tremaining: 2.24s\n",
      "24:\tlearn: 0.6534210\ttest: 0.9797211\tbest: 0.9797211 (24)\ttotal: 734ms\tremaining: 2.2s\n",
      "25:\tlearn: 0.6364019\ttest: 0.9700072\tbest: 0.9700072 (25)\ttotal: 759ms\tremaining: 2.16s\n",
      "26:\tlearn: 0.6168990\ttest: 0.9558588\tbest: 0.9558588 (26)\ttotal: 791ms\tremaining: 2.14s\n",
      "27:\tlearn: 0.6045334\ttest: 0.9531441\tbest: 0.9531441 (27)\ttotal: 817ms\tremaining: 2.1s\n",
      "28:\tlearn: 0.5864297\ttest: 0.9434281\tbest: 0.9434281 (28)\ttotal: 851ms\tremaining: 2.08s\n",
      "29:\tlearn: 0.5770129\ttest: 0.9409153\tbest: 0.9409153 (29)\ttotal: 876ms\tremaining: 2.04s\n",
      "30:\tlearn: 0.5593303\ttest: 0.9312227\tbest: 0.9312227 (30)\ttotal: 902ms\tremaining: 2.01s\n",
      "31:\tlearn: 0.5494324\ttest: 0.9223067\tbest: 0.9223067 (31)\ttotal: 929ms\tremaining: 1.97s\n",
      "32:\tlearn: 0.5368257\ttest: 0.9131713\tbest: 0.9131713 (32)\ttotal: 956ms\tremaining: 1.94s\n",
      "33:\tlearn: 0.5212051\ttest: 0.9090274\tbest: 0.9090274 (33)\ttotal: 987ms\tremaining: 1.92s\n",
      "34:\tlearn: 0.5083631\ttest: 0.9048853\tbest: 0.9048853 (34)\ttotal: 1.02s\tremaining: 1.89s\n",
      "35:\tlearn: 0.4990040\ttest: 0.8994139\tbest: 0.8994139 (35)\ttotal: 1.05s\tremaining: 1.87s\n",
      "36:\tlearn: 0.4869843\ttest: 0.8930210\tbest: 0.8930210 (36)\ttotal: 1.08s\tremaining: 1.84s\n",
      "37:\tlearn: 0.4763131\ttest: 0.8901802\tbest: 0.8901802 (37)\ttotal: 1.11s\tremaining: 1.81s\n",
      "38:\tlearn: 0.4702292\ttest: 0.8862835\tbest: 0.8862835 (38)\ttotal: 1.13s\tremaining: 1.77s\n",
      "39:\tlearn: 0.4607969\ttest: 0.8845858\tbest: 0.8845858 (39)\ttotal: 1.16s\tremaining: 1.75s\n",
      "40:\tlearn: 0.4537501\ttest: 0.8810127\tbest: 0.8810127 (40)\ttotal: 1.19s\tremaining: 1.72s\n",
      "41:\tlearn: 0.4457498\ttest: 0.8789806\tbest: 0.8789806 (41)\ttotal: 1.22s\tremaining: 1.68s\n",
      "42:\tlearn: 0.4412341\ttest: 0.8779373\tbest: 0.8779373 (42)\ttotal: 1.25s\tremaining: 1.66s\n",
      "43:\tlearn: 0.4343691\ttest: 0.8744023\tbest: 0.8744023 (43)\ttotal: 1.29s\tremaining: 1.64s\n",
      "44:\tlearn: 0.4247812\ttest: 0.8675411\tbest: 0.8675411 (44)\ttotal: 1.34s\tremaining: 1.64s\n",
      "45:\tlearn: 0.4118608\ttest: 0.8605322\tbest: 0.8605322 (45)\ttotal: 1.38s\tremaining: 1.63s\n",
      "46:\tlearn: 0.4053239\ttest: 0.8593835\tbest: 0.8593835 (46)\ttotal: 1.42s\tremaining: 1.61s\n",
      "47:\tlearn: 0.3997192\ttest: 0.8585009\tbest: 0.8585009 (47)\ttotal: 1.45s\tremaining: 1.57s\n",
      "48:\tlearn: 0.3921904\ttest: 0.8574864\tbest: 0.8574864 (48)\ttotal: 1.5s\tremaining: 1.57s\n",
      "49:\tlearn: 0.3855076\ttest: 0.8534386\tbest: 0.8534386 (49)\ttotal: 1.54s\tremaining: 1.54s\n",
      "50:\tlearn: 0.3779598\ttest: 0.8487661\tbest: 0.8487661 (50)\ttotal: 1.57s\tremaining: 1.51s\n",
      "51:\tlearn: 0.3727463\ttest: 0.8469096\tbest: 0.8469096 (51)\ttotal: 1.6s\tremaining: 1.48s\n",
      "52:\tlearn: 0.3639270\ttest: 0.8458823\tbest: 0.8458823 (52)\ttotal: 1.63s\tremaining: 1.45s\n",
      "53:\tlearn: 0.3577688\ttest: 0.8451400\tbest: 0.8451400 (53)\ttotal: 1.66s\tremaining: 1.42s\n",
      "54:\tlearn: 0.3557421\ttest: 0.8440416\tbest: 0.8440416 (54)\ttotal: 1.69s\tremaining: 1.38s\n",
      "55:\tlearn: 0.3473426\ttest: 0.8374693\tbest: 0.8374693 (55)\ttotal: 1.72s\tremaining: 1.35s\n",
      "56:\tlearn: 0.3438954\ttest: 0.8336445\tbest: 0.8336445 (56)\ttotal: 1.75s\tremaining: 1.32s\n",
      "57:\tlearn: 0.3360607\ttest: 0.8299788\tbest: 0.8299788 (57)\ttotal: 1.78s\tremaining: 1.29s\n",
      "58:\tlearn: 0.3303741\ttest: 0.8276202\tbest: 0.8276202 (58)\ttotal: 1.81s\tremaining: 1.26s\n",
      "59:\tlearn: 0.3265125\ttest: 0.8263175\tbest: 0.8263175 (59)\ttotal: 1.84s\tremaining: 1.23s\n",
      "60:\tlearn: 0.3209834\ttest: 0.8250079\tbest: 0.8250079 (60)\ttotal: 1.87s\tremaining: 1.2s\n",
      "61:\tlearn: 0.3151061\ttest: 0.8194556\tbest: 0.8194556 (61)\ttotal: 1.9s\tremaining: 1.17s\n",
      "62:\tlearn: 0.3090412\ttest: 0.8179721\tbest: 0.8179721 (62)\ttotal: 1.93s\tremaining: 1.13s\n",
      "63:\tlearn: 0.3031029\ttest: 0.8147060\tbest: 0.8147060 (63)\ttotal: 1.96s\tremaining: 1.1s\n",
      "64:\tlearn: 0.3004490\ttest: 0.8132914\tbest: 0.8132914 (64)\ttotal: 1.99s\tremaining: 1.07s\n",
      "65:\tlearn: 0.2951422\ttest: 0.8101022\tbest: 0.8101022 (65)\ttotal: 2.03s\tremaining: 1.04s\n",
      "66:\tlearn: 0.2909806\ttest: 0.8075754\tbest: 0.8075754 (66)\ttotal: 2.05s\tremaining: 1.01s\n",
      "67:\tlearn: 0.2858962\ttest: 0.8024105\tbest: 0.8024105 (67)\ttotal: 2.08s\tremaining: 979ms\n",
      "68:\tlearn: 0.2809261\ttest: 0.8011349\tbest: 0.8011349 (68)\ttotal: 2.11s\tremaining: 949ms\n",
      "69:\tlearn: 0.2747095\ttest: 0.8008496\tbest: 0.8008496 (69)\ttotal: 2.14s\tremaining: 919ms\n",
      "70:\tlearn: 0.2722046\ttest: 0.7992766\tbest: 0.7992766 (70)\ttotal: 2.18s\tremaining: 892ms\n",
      "71:\tlearn: 0.2687233\ttest: 0.7978203\tbest: 0.7978203 (71)\ttotal: 2.21s\tremaining: 860ms\n",
      "72:\tlearn: 0.2658489\ttest: 0.7978384\tbest: 0.7978203 (71)\ttotal: 2.24s\tremaining: 828ms\n",
      "73:\tlearn: 0.2628808\ttest: 0.7962670\tbest: 0.7962670 (73)\ttotal: 2.26s\tremaining: 795ms\n",
      "74:\tlearn: 0.2590643\ttest: 0.7948299\tbest: 0.7948299 (74)\ttotal: 2.29s\tremaining: 765ms\n",
      "75:\tlearn: 0.2571730\ttest: 0.7939186\tbest: 0.7939186 (75)\ttotal: 2.32s\tremaining: 734ms\n",
      "76:\tlearn: 0.2537955\ttest: 0.7930607\tbest: 0.7930607 (76)\ttotal: 2.36s\tremaining: 705ms\n",
      "77:\tlearn: 0.2492040\ttest: 0.7939991\tbest: 0.7930607 (76)\ttotal: 2.38s\tremaining: 673ms\n",
      "78:\tlearn: 0.2450837\ttest: 0.7936641\tbest: 0.7930607 (76)\ttotal: 2.41s\tremaining: 641ms\n",
      "79:\tlearn: 0.2407451\ttest: 0.7926219\tbest: 0.7926219 (79)\ttotal: 2.44s\tremaining: 609ms\n",
      "80:\tlearn: 0.2392573\ttest: 0.7914137\tbest: 0.7914137 (80)\ttotal: 2.46s\tremaining: 577ms\n",
      "81:\tlearn: 0.2353513\ttest: 0.7852670\tbest: 0.7852670 (81)\ttotal: 2.49s\tremaining: 547ms\n",
      "82:\tlearn: 0.2323229\ttest: 0.7833556\tbest: 0.7833556 (82)\ttotal: 2.54s\tremaining: 520ms\n",
      "83:\tlearn: 0.2292541\ttest: 0.7796324\tbest: 0.7796324 (83)\ttotal: 2.58s\tremaining: 491ms\n",
      "84:\tlearn: 0.2280728\ttest: 0.7801920\tbest: 0.7796324 (83)\ttotal: 2.62s\tremaining: 462ms\n",
      "85:\tlearn: 0.2250479\ttest: 0.7761783\tbest: 0.7761783 (85)\ttotal: 2.66s\tremaining: 433ms\n",
      "86:\tlearn: 0.2219170\ttest: 0.7732176\tbest: 0.7732176 (86)\ttotal: 2.69s\tremaining: 402ms\n",
      "87:\tlearn: 0.2198111\ttest: 0.7721266\tbest: 0.7721266 (87)\ttotal: 2.72s\tremaining: 370ms\n",
      "88:\tlearn: 0.2162240\ttest: 0.7702673\tbest: 0.7702673 (88)\ttotal: 2.75s\tremaining: 339ms\n",
      "89:\tlearn: 0.2140778\ttest: 0.7700038\tbest: 0.7700038 (89)\ttotal: 2.78s\tremaining: 309ms\n",
      "90:\tlearn: 0.2111793\ttest: 0.7684162\tbest: 0.7684162 (90)\ttotal: 2.81s\tremaining: 278ms\n",
      "91:\tlearn: 0.2091665\ttest: 0.7682775\tbest: 0.7682775 (91)\ttotal: 2.84s\tremaining: 247ms\n",
      "92:\tlearn: 0.2066323\ttest: 0.7675539\tbest: 0.7675539 (92)\ttotal: 2.88s\tremaining: 217ms\n",
      "93:\tlearn: 0.2050578\ttest: 0.7663071\tbest: 0.7663071 (93)\ttotal: 2.92s\tremaining: 186ms\n",
      "94:\tlearn: 0.2031469\ttest: 0.7665137\tbest: 0.7663071 (93)\ttotal: 2.94s\tremaining: 155ms\n",
      "95:\tlearn: 0.2006311\ttest: 0.7642077\tbest: 0.7642077 (95)\ttotal: 2.98s\tremaining: 124ms\n",
      "96:\tlearn: 0.1990440\ttest: 0.7656451\tbest: 0.7642077 (95)\ttotal: 3.03s\tremaining: 93.8ms\n"
     ]
    },
    {
     "name": "stdout",
     "output_type": "stream",
     "text": [
      "97:\tlearn: 0.1971625\ttest: 0.7645314\tbest: 0.7642077 (95)\ttotal: 3.08s\tremaining: 62.8ms\n",
      "98:\tlearn: 0.1949447\ttest: 0.7627239\tbest: 0.7627239 (98)\ttotal: 3.1s\tremaining: 31.3ms\n",
      "99:\tlearn: 0.1924571\ttest: 0.7636522\tbest: 0.7627239 (98)\ttotal: 3.12s\tremaining: 0us\n",
      "\n",
      "bestTest = 0.7627239227\n",
      "bestIteration = 98\n",
      "\n",
      "Shrink model to first 99 iterations.\n"
     ]
    },
    {
     "data": {
      "text/plain": [
       "0.7366666666666667"
      ]
     },
     "execution_count": 17,
     "metadata": {},
     "output_type": "execute_result"
    }
   ],
   "source": [
    "from catboost import CatBoostClassifier\n",
    "model=CatBoostClassifier(iterations=100)\n",
    "model.fit(x_train,y_train,eval_set=(x_test, y_test))\n",
    "model.score(x_test,y_test)"
   ]
  },
  {
   "cell_type": "markdown",
   "metadata": {},
   "source": [
    "> # Task #5 (5 mins)\n",
    "\n",
    "Apply CatBoostRegressor on regression dataset and check score"
   ]
  }
 ],
 "metadata": {
  "kernelspec": {
   "display_name": "Python 3",
   "language": "python",
   "name": "python3"
  },
  "language_info": {
   "codemirror_mode": {
    "name": "ipython",
    "version": 3
   },
   "file_extension": ".py",
   "mimetype": "text/x-python",
   "name": "python",
   "nbconvert_exporter": "python",
   "pygments_lexer": "ipython3",
   "version": "3.7.2"
  }
 },
 "nbformat": 4,
 "nbformat_minor": 4
}
