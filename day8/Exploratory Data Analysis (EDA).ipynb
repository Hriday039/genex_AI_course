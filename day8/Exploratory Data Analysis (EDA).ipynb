{
 "cells": [
  {
   "cell_type": "markdown",
   "metadata": {},
   "source": [
    "# Exploratory Data Analysis (EDA)\n",
    "\n",
    "The Titanic Dataset is a very good dataset for begineers to start a journey in data science.\n",
    "\n",
    "The sinking of the Titanic is one of the most infamous shipwrecks in history. On April 15, 1912, during her maiden voyage, the Titanic sank after colliding with an iceberg, killing 1502 out of 2224 passengers and crew. \n",
    "\n",
    "You can read more about this : https://en.wikipedia.org/wiki/Sinking_of_the_RMS_Titanic"
   ]
  },
  {
   "cell_type": "code",
   "execution_count": 29,
   "metadata": {},
   "outputs": [],
   "source": [
    "import numpy as np \n",
    "import pandas as pd\n",
    "from sklearn.impute import SimpleImputer\n",
    "import matplotlib.pyplot as plt\n",
    "import seaborn as sns\n",
    "plt.style.use('ggplot')\n",
    "import warnings\n",
    "warnings.filterwarnings('ignore')\n",
    "%matplotlib inline"
   ]
  },
  {
   "cell_type": "code",
   "execution_count": 21,
   "metadata": {},
   "outputs": [],
   "source": [
    "data=pd.read_csv('data/train.csv')"
   ]
  },
  {
   "cell_type": "code",
   "execution_count": 22,
   "metadata": {},
   "outputs": [
    {
     "data": {
      "text/html": [
       "<div>\n",
       "<style scoped>\n",
       "    .dataframe tbody tr th:only-of-type {\n",
       "        vertical-align: middle;\n",
       "    }\n",
       "\n",
       "    .dataframe tbody tr th {\n",
       "        vertical-align: top;\n",
       "    }\n",
       "\n",
       "    .dataframe thead th {\n",
       "        text-align: right;\n",
       "    }\n",
       "</style>\n",
       "<table border=\"1\" class=\"dataframe\">\n",
       "  <thead>\n",
       "    <tr style=\"text-align: right;\">\n",
       "      <th></th>\n",
       "      <th>PassengerId</th>\n",
       "      <th>Survived</th>\n",
       "      <th>Pclass</th>\n",
       "      <th>Name</th>\n",
       "      <th>Sex</th>\n",
       "      <th>Age</th>\n",
       "      <th>SibSp</th>\n",
       "      <th>Parch</th>\n",
       "      <th>Ticket</th>\n",
       "      <th>Fare</th>\n",
       "      <th>Cabin</th>\n",
       "      <th>Embarked</th>\n",
       "    </tr>\n",
       "  </thead>\n",
       "  <tbody>\n",
       "    <tr>\n",
       "      <th>0</th>\n",
       "      <td>1</td>\n",
       "      <td>0</td>\n",
       "      <td>3</td>\n",
       "      <td>Braund, Mr. Owen Harris</td>\n",
       "      <td>male</td>\n",
       "      <td>22.0</td>\n",
       "      <td>1</td>\n",
       "      <td>0</td>\n",
       "      <td>A/5 21171</td>\n",
       "      <td>7.2500</td>\n",
       "      <td>NaN</td>\n",
       "      <td>S</td>\n",
       "    </tr>\n",
       "    <tr>\n",
       "      <th>1</th>\n",
       "      <td>2</td>\n",
       "      <td>1</td>\n",
       "      <td>1</td>\n",
       "      <td>Cumings, Mrs. John Bradley (Florence Briggs Th...</td>\n",
       "      <td>female</td>\n",
       "      <td>38.0</td>\n",
       "      <td>1</td>\n",
       "      <td>0</td>\n",
       "      <td>PC 17599</td>\n",
       "      <td>71.2833</td>\n",
       "      <td>C85</td>\n",
       "      <td>C</td>\n",
       "    </tr>\n",
       "    <tr>\n",
       "      <th>2</th>\n",
       "      <td>3</td>\n",
       "      <td>1</td>\n",
       "      <td>3</td>\n",
       "      <td>Heikkinen, Miss. Laina</td>\n",
       "      <td>female</td>\n",
       "      <td>26.0</td>\n",
       "      <td>0</td>\n",
       "      <td>0</td>\n",
       "      <td>STON/O2. 3101282</td>\n",
       "      <td>7.9250</td>\n",
       "      <td>NaN</td>\n",
       "      <td>S</td>\n",
       "    </tr>\n",
       "    <tr>\n",
       "      <th>3</th>\n",
       "      <td>4</td>\n",
       "      <td>1</td>\n",
       "      <td>1</td>\n",
       "      <td>Futrelle, Mrs. Jacques Heath (Lily May Peel)</td>\n",
       "      <td>female</td>\n",
       "      <td>35.0</td>\n",
       "      <td>1</td>\n",
       "      <td>0</td>\n",
       "      <td>113803</td>\n",
       "      <td>53.1000</td>\n",
       "      <td>C123</td>\n",
       "      <td>S</td>\n",
       "    </tr>\n",
       "    <tr>\n",
       "      <th>4</th>\n",
       "      <td>5</td>\n",
       "      <td>0</td>\n",
       "      <td>3</td>\n",
       "      <td>Allen, Mr. William Henry</td>\n",
       "      <td>male</td>\n",
       "      <td>35.0</td>\n",
       "      <td>0</td>\n",
       "      <td>0</td>\n",
       "      <td>373450</td>\n",
       "      <td>8.0500</td>\n",
       "      <td>NaN</td>\n",
       "      <td>S</td>\n",
       "    </tr>\n",
       "  </tbody>\n",
       "</table>\n",
       "</div>"
      ],
      "text/plain": [
       "   PassengerId  Survived  Pclass  \\\n",
       "0            1         0       3   \n",
       "1            2         1       1   \n",
       "2            3         1       3   \n",
       "3            4         1       1   \n",
       "4            5         0       3   \n",
       "\n",
       "                                                Name     Sex   Age  SibSp  \\\n",
       "0                            Braund, Mr. Owen Harris    male  22.0      1   \n",
       "1  Cumings, Mrs. John Bradley (Florence Briggs Th...  female  38.0      1   \n",
       "2                             Heikkinen, Miss. Laina  female  26.0      0   \n",
       "3       Futrelle, Mrs. Jacques Heath (Lily May Peel)  female  35.0      1   \n",
       "4                           Allen, Mr. William Henry    male  35.0      0   \n",
       "\n",
       "   Parch            Ticket     Fare Cabin Embarked  \n",
       "0      0         A/5 21171   7.2500   NaN        S  \n",
       "1      0          PC 17599  71.2833   C85        C  \n",
       "2      0  STON/O2. 3101282   7.9250   NaN        S  \n",
       "3      0            113803  53.1000  C123        S  \n",
       "4      0            373450   8.0500   NaN        S  "
      ]
     },
     "execution_count": 22,
     "metadata": {},
     "output_type": "execute_result"
    }
   ],
   "source": [
    "data.head()"
   ]
  },
  {
   "cell_type": "code",
   "execution_count": 45,
   "metadata": {},
   "outputs": [
    {
     "data": {
      "text/plain": [
       "PassengerId    893\n",
       "Survived         2\n",
       "Pclass           3\n",
       "Name           891\n",
       "Sex              2\n",
       "Age             90\n",
       "SibSp            7\n",
       "Parch            7\n",
       "Ticket         681\n",
       "Fare           248\n",
       "Cabin          147\n",
       "Embarked         3\n",
       "dtype: int64"
      ]
     },
     "execution_count": 45,
     "metadata": {},
     "output_type": "execute_result"
    }
   ],
   "source": [
    "# number of unique values\n",
    "data.nunique()"
   ]
  },
  {
   "cell_type": "markdown",
   "metadata": {},
   "source": [
    "# Missing values"
   ]
  },
  {
   "cell_type": "code",
   "execution_count": 23,
   "metadata": {},
   "outputs": [
    {
     "data": {
      "text/plain": [
       "PassengerId      0\n",
       "Survived         0\n",
       "Pclass           0\n",
       "Name             0\n",
       "Sex              0\n",
       "Age            177\n",
       "SibSp            0\n",
       "Parch            0\n",
       "Ticket           0\n",
       "Fare             0\n",
       "Cabin          688\n",
       "Embarked         2\n",
       "dtype: int64"
      ]
     },
     "execution_count": 23,
     "metadata": {},
     "output_type": "execute_result"
    }
   ],
   "source": [
    "#checking for missing values\n",
    "data.isnull().sum() "
   ]
  },
  {
   "cell_type": "code",
   "execution_count": 30,
   "metadata": {},
   "outputs": [
    {
     "data": {
      "text/html": [
       "<style  type=\"text/css\" >\n",
       "    #T_c8b82582_b875_11ea_bcd3_b88a60c487eerow5_col0 {\n",
       "            background:  lightgreen;\n",
       "        }    #T_c8b82582_b875_11ea_bcd3_b88a60c487eerow5_col1 {\n",
       "            background:  lightgreen;\n",
       "        }    #T_c8b82582_b875_11ea_bcd3_b88a60c487eerow5_col2 {\n",
       "            background:  lightgreen;\n",
       "        }    #T_c8b82582_b875_11ea_bcd3_b88a60c487eerow5_col3 {\n",
       "            background:  lightgreen;\n",
       "        }    #T_c8b82582_b875_11ea_bcd3_b88a60c487eerow5_col4 {\n",
       "            background:  lightgreen;\n",
       "        }</style><table id=\"T_c8b82582_b875_11ea_bcd3_b88a60c487ee\" ><thead>    <tr>        <th class=\"blank level0\" ></th>        <th class=\"col_heading level0 col0\" >Age</th>        <th class=\"col_heading level0 col1\" >most_frequent</th>        <th class=\"col_heading level0 col2\" >mean</th>        <th class=\"col_heading level0 col3\" >median</th>        <th class=\"col_heading level0 col4\" >constant</th>    </tr></thead><tbody>\n",
       "                <tr>\n",
       "                        <th id=\"T_c8b82582_b875_11ea_bcd3_b88a60c487eelevel0_row0\" class=\"row_heading level0 row0\" >0</th>\n",
       "                        <td id=\"T_c8b82582_b875_11ea_bcd3_b88a60c487eerow0_col0\" class=\"data row0 col0\" >22.000000</td>\n",
       "                        <td id=\"T_c8b82582_b875_11ea_bcd3_b88a60c487eerow0_col1\" class=\"data row0 col1\" >22.000000</td>\n",
       "                        <td id=\"T_c8b82582_b875_11ea_bcd3_b88a60c487eerow0_col2\" class=\"data row0 col2\" >22.000000</td>\n",
       "                        <td id=\"T_c8b82582_b875_11ea_bcd3_b88a60c487eerow0_col3\" class=\"data row0 col3\" >22.000000</td>\n",
       "                        <td id=\"T_c8b82582_b875_11ea_bcd3_b88a60c487eerow0_col4\" class=\"data row0 col4\" >22.000000</td>\n",
       "            </tr>\n",
       "            <tr>\n",
       "                        <th id=\"T_c8b82582_b875_11ea_bcd3_b88a60c487eelevel0_row1\" class=\"row_heading level0 row1\" >1</th>\n",
       "                        <td id=\"T_c8b82582_b875_11ea_bcd3_b88a60c487eerow1_col0\" class=\"data row1 col0\" >38.000000</td>\n",
       "                        <td id=\"T_c8b82582_b875_11ea_bcd3_b88a60c487eerow1_col1\" class=\"data row1 col1\" >38.000000</td>\n",
       "                        <td id=\"T_c8b82582_b875_11ea_bcd3_b88a60c487eerow1_col2\" class=\"data row1 col2\" >38.000000</td>\n",
       "                        <td id=\"T_c8b82582_b875_11ea_bcd3_b88a60c487eerow1_col3\" class=\"data row1 col3\" >38.000000</td>\n",
       "                        <td id=\"T_c8b82582_b875_11ea_bcd3_b88a60c487eerow1_col4\" class=\"data row1 col4\" >38.000000</td>\n",
       "            </tr>\n",
       "            <tr>\n",
       "                        <th id=\"T_c8b82582_b875_11ea_bcd3_b88a60c487eelevel0_row2\" class=\"row_heading level0 row2\" >2</th>\n",
       "                        <td id=\"T_c8b82582_b875_11ea_bcd3_b88a60c487eerow2_col0\" class=\"data row2 col0\" >26.000000</td>\n",
       "                        <td id=\"T_c8b82582_b875_11ea_bcd3_b88a60c487eerow2_col1\" class=\"data row2 col1\" >26.000000</td>\n",
       "                        <td id=\"T_c8b82582_b875_11ea_bcd3_b88a60c487eerow2_col2\" class=\"data row2 col2\" >26.000000</td>\n",
       "                        <td id=\"T_c8b82582_b875_11ea_bcd3_b88a60c487eerow2_col3\" class=\"data row2 col3\" >26.000000</td>\n",
       "                        <td id=\"T_c8b82582_b875_11ea_bcd3_b88a60c487eerow2_col4\" class=\"data row2 col4\" >26.000000</td>\n",
       "            </tr>\n",
       "            <tr>\n",
       "                        <th id=\"T_c8b82582_b875_11ea_bcd3_b88a60c487eelevel0_row3\" class=\"row_heading level0 row3\" >3</th>\n",
       "                        <td id=\"T_c8b82582_b875_11ea_bcd3_b88a60c487eerow3_col0\" class=\"data row3 col0\" >35.000000</td>\n",
       "                        <td id=\"T_c8b82582_b875_11ea_bcd3_b88a60c487eerow3_col1\" class=\"data row3 col1\" >35.000000</td>\n",
       "                        <td id=\"T_c8b82582_b875_11ea_bcd3_b88a60c487eerow3_col2\" class=\"data row3 col2\" >35.000000</td>\n",
       "                        <td id=\"T_c8b82582_b875_11ea_bcd3_b88a60c487eerow3_col3\" class=\"data row3 col3\" >35.000000</td>\n",
       "                        <td id=\"T_c8b82582_b875_11ea_bcd3_b88a60c487eerow3_col4\" class=\"data row3 col4\" >35.000000</td>\n",
       "            </tr>\n",
       "            <tr>\n",
       "                        <th id=\"T_c8b82582_b875_11ea_bcd3_b88a60c487eelevel0_row4\" class=\"row_heading level0 row4\" >4</th>\n",
       "                        <td id=\"T_c8b82582_b875_11ea_bcd3_b88a60c487eerow4_col0\" class=\"data row4 col0\" >35.000000</td>\n",
       "                        <td id=\"T_c8b82582_b875_11ea_bcd3_b88a60c487eerow4_col1\" class=\"data row4 col1\" >35.000000</td>\n",
       "                        <td id=\"T_c8b82582_b875_11ea_bcd3_b88a60c487eerow4_col2\" class=\"data row4 col2\" >35.000000</td>\n",
       "                        <td id=\"T_c8b82582_b875_11ea_bcd3_b88a60c487eerow4_col3\" class=\"data row4 col3\" >35.000000</td>\n",
       "                        <td id=\"T_c8b82582_b875_11ea_bcd3_b88a60c487eerow4_col4\" class=\"data row4 col4\" >35.000000</td>\n",
       "            </tr>\n",
       "            <tr>\n",
       "                        <th id=\"T_c8b82582_b875_11ea_bcd3_b88a60c487eelevel0_row5\" class=\"row_heading level0 row5\" >5</th>\n",
       "                        <td id=\"T_c8b82582_b875_11ea_bcd3_b88a60c487eerow5_col0\" class=\"data row5 col0\" >nan</td>\n",
       "                        <td id=\"T_c8b82582_b875_11ea_bcd3_b88a60c487eerow5_col1\" class=\"data row5 col1\" >24.000000</td>\n",
       "                        <td id=\"T_c8b82582_b875_11ea_bcd3_b88a60c487eerow5_col2\" class=\"data row5 col2\" >30.311690</td>\n",
       "                        <td id=\"T_c8b82582_b875_11ea_bcd3_b88a60c487eerow5_col3\" class=\"data row5 col3\" >28.000000</td>\n",
       "                        <td id=\"T_c8b82582_b875_11ea_bcd3_b88a60c487eerow5_col4\" class=\"data row5 col4\" >0.000000</td>\n",
       "            </tr>\n",
       "    </tbody></table>"
      ],
      "text/plain": [
       "<pandas.io.formats.style.Styler at 0x183000f7b38>"
      ]
     },
     "execution_count": 30,
     "metadata": {},
     "output_type": "execute_result"
    }
   ],
   "source": [
    "# get Age data\n",
    "age = data['Age']\n",
    "df = pd.DataFrame(age)\n",
    "\n",
    "# imputer\n",
    "df[\"most_frequent\"] = SimpleImputer(strategy = \"most_frequent\").fit_transform(df[['Age']])\n",
    "\n",
    "df[\"mean\"] = SimpleImputer(strategy = \"mean\").fit_transform(df[['Age']])\n",
    "\n",
    "df[\"median\"] = SimpleImputer(strategy = \"median\").fit_transform(df[['Age']])\n",
    "\n",
    "df[\"constant\"]  = SimpleImputer(strategy = \"constant\", fill_value = 0).fit_transform(df[['Age']])\n",
    "\n",
    "df[:6].style.apply(lambda x: ['background: lightgreen' if  pd.isnull(x['Age']) else '' for i in x], axis=1)"
   ]
  },
  {
   "cell_type": "code",
   "execution_count": 32,
   "metadata": {},
   "outputs": [
    {
     "name": "stdout",
     "output_type": "stream",
     "text": [
      "Sex\n",
      "female    27.915709\n",
      "male      31.686088\n",
      "Name: Age, dtype: float64\n"
     ]
    },
    {
     "data": {
      "text/html": [
       "<style  type=\"text/css\" >\n",
       "    #T_004e98da_b876_11ea_a9cf_b88a60c487eerow5_col0 {\n",
       "            background:  lightgreen;\n",
       "        }    #T_004e98da_b876_11ea_a9cf_b88a60c487eerow5_col1 {\n",
       "            background:  lightgreen;\n",
       "        }    #T_004e98da_b876_11ea_a9cf_b88a60c487eerow5_col2 {\n",
       "            background:  lightgreen;\n",
       "        }</style><table id=\"T_004e98da_b876_11ea_a9cf_b88a60c487ee\" ><thead>    <tr>        <th class=\"blank level0\" ></th>        <th class=\"col_heading level0 col0\" >Age</th>        <th class=\"col_heading level0 col1\" >Sex</th>        <th class=\"col_heading level0 col2\" >groupby_mean</th>    </tr></thead><tbody>\n",
       "                <tr>\n",
       "                        <th id=\"T_004e98da_b876_11ea_a9cf_b88a60c487eelevel0_row0\" class=\"row_heading level0 row0\" >0</th>\n",
       "                        <td id=\"T_004e98da_b876_11ea_a9cf_b88a60c487eerow0_col0\" class=\"data row0 col0\" >22.000000</td>\n",
       "                        <td id=\"T_004e98da_b876_11ea_a9cf_b88a60c487eerow0_col1\" class=\"data row0 col1\" >male</td>\n",
       "                        <td id=\"T_004e98da_b876_11ea_a9cf_b88a60c487eerow0_col2\" class=\"data row0 col2\" >22.000000</td>\n",
       "            </tr>\n",
       "            <tr>\n",
       "                        <th id=\"T_004e98da_b876_11ea_a9cf_b88a60c487eelevel0_row1\" class=\"row_heading level0 row1\" >1</th>\n",
       "                        <td id=\"T_004e98da_b876_11ea_a9cf_b88a60c487eerow1_col0\" class=\"data row1 col0\" >38.000000</td>\n",
       "                        <td id=\"T_004e98da_b876_11ea_a9cf_b88a60c487eerow1_col1\" class=\"data row1 col1\" >female</td>\n",
       "                        <td id=\"T_004e98da_b876_11ea_a9cf_b88a60c487eerow1_col2\" class=\"data row1 col2\" >38.000000</td>\n",
       "            </tr>\n",
       "            <tr>\n",
       "                        <th id=\"T_004e98da_b876_11ea_a9cf_b88a60c487eelevel0_row2\" class=\"row_heading level0 row2\" >2</th>\n",
       "                        <td id=\"T_004e98da_b876_11ea_a9cf_b88a60c487eerow2_col0\" class=\"data row2 col0\" >26.000000</td>\n",
       "                        <td id=\"T_004e98da_b876_11ea_a9cf_b88a60c487eerow2_col1\" class=\"data row2 col1\" >female</td>\n",
       "                        <td id=\"T_004e98da_b876_11ea_a9cf_b88a60c487eerow2_col2\" class=\"data row2 col2\" >26.000000</td>\n",
       "            </tr>\n",
       "            <tr>\n",
       "                        <th id=\"T_004e98da_b876_11ea_a9cf_b88a60c487eelevel0_row3\" class=\"row_heading level0 row3\" >3</th>\n",
       "                        <td id=\"T_004e98da_b876_11ea_a9cf_b88a60c487eerow3_col0\" class=\"data row3 col0\" >35.000000</td>\n",
       "                        <td id=\"T_004e98da_b876_11ea_a9cf_b88a60c487eerow3_col1\" class=\"data row3 col1\" >female</td>\n",
       "                        <td id=\"T_004e98da_b876_11ea_a9cf_b88a60c487eerow3_col2\" class=\"data row3 col2\" >35.000000</td>\n",
       "            </tr>\n",
       "            <tr>\n",
       "                        <th id=\"T_004e98da_b876_11ea_a9cf_b88a60c487eelevel0_row4\" class=\"row_heading level0 row4\" >4</th>\n",
       "                        <td id=\"T_004e98da_b876_11ea_a9cf_b88a60c487eerow4_col0\" class=\"data row4 col0\" >35.000000</td>\n",
       "                        <td id=\"T_004e98da_b876_11ea_a9cf_b88a60c487eerow4_col1\" class=\"data row4 col1\" >male</td>\n",
       "                        <td id=\"T_004e98da_b876_11ea_a9cf_b88a60c487eerow4_col2\" class=\"data row4 col2\" >35.000000</td>\n",
       "            </tr>\n",
       "            <tr>\n",
       "                        <th id=\"T_004e98da_b876_11ea_a9cf_b88a60c487eelevel0_row5\" class=\"row_heading level0 row5\" >5</th>\n",
       "                        <td id=\"T_004e98da_b876_11ea_a9cf_b88a60c487eerow5_col0\" class=\"data row5 col0\" >nan</td>\n",
       "                        <td id=\"T_004e98da_b876_11ea_a9cf_b88a60c487eerow5_col1\" class=\"data row5 col1\" >male</td>\n",
       "                        <td id=\"T_004e98da_b876_11ea_a9cf_b88a60c487eerow5_col2\" class=\"data row5 col2\" >31.686088</td>\n",
       "            </tr>\n",
       "    </tbody></table>"
      ],
      "text/plain": [
       "<pandas.io.formats.style.Styler at 0x1837b834320>"
      ]
     },
     "execution_count": 32,
     "metadata": {},
     "output_type": "execute_result"
    }
   ],
   "source": [
    "# groupby\n",
    "df = data[['Age', 'Sex']].copy()\n",
    "print(df.groupby('Sex')['Age'].mean())\n",
    "\n",
    "df['groupby_mean'] = df.groupby(\"Sex\").transform(lambda x: x.fillna(x.mean()))\n",
    "# just for highlight\n",
    "df[:6].style.apply(lambda x: ['background: lightgreen' if  pd.isnull(x['Age']) else '' for i in x], axis=1)"
   ]
  },
  {
   "cell_type": "markdown",
   "metadata": {},
   "source": [
    "> # Task #1:\n",
    "Fill the missing value using gropby Sex and Pclass (don't need to display)"
   ]
  },
  {
   "cell_type": "code",
   "execution_count": 54,
   "metadata": {},
   "outputs": [
    {
     "name": "stdout",
     "output_type": "stream",
     "text": [
      "Sex     Pclass\n",
      "female  1         34.611765\n",
      "        2         28.722973\n",
      "        3         21.750000\n",
      "male    1         42.504118\n",
      "        2         30.740707\n",
      "        3         27.710315\n",
      "Name: Age, dtype: float64\n"
     ]
    }
   ],
   "source": [
    "# groupby task #1\n",
    "df = data[['Age', 'Sex', 'Pclass']].copy()\n",
    "print(df.groupby(['Sex', 'Pclass'])['Age'].mean())\n",
    "\n",
    "# your code here\n"
   ]
  },
  {
   "cell_type": "markdown",
   "metadata": {},
   "source": [
    "### How many Survived??"
   ]
  },
  {
   "cell_type": "code",
   "execution_count": 33,
   "metadata": {},
   "outputs": [
    {
     "name": "stdout",
     "output_type": "stream",
     "text": [
      "Survived: \n",
      "0    550\n",
      "1    343\n",
      "Name: Survived, dtype: int64\n"
     ]
    },
    {
     "data": {
      "image/png": "[encoded data removed]",
      "text/plain": [
       "<Figure size 432x288 with 1 Axes>"
      ]
     },
     "metadata": {},
     "output_type": "display_data"
    }
   ],
   "source": [
    "# count values\n",
    "s_temp = data['Survived'].value_counts()\n",
    "print(f'Survived: \\n{s_temp}')\n",
    "\n",
    "# pie chart\n",
    "data['Survived'].value_counts().plot.pie(explode=[0,0.1],autopct='%.2f%%')\n",
    "plt.show()"
   ]
  },
  {
   "cell_type": "markdown",
   "metadata": {},
   "source": [
    "### Categorical Features:\n",
    "\n",
    "Sex, Embarked, PClass, PassengerId, Cabin etc\n",
    "\n",
    "\n",
    "### Numerical Features:\n",
    "\n",
    "Age, fare, SibSp etc"
   ]
  },
  {
   "cell_type": "code",
   "execution_count": 44,
   "metadata": {},
   "outputs": [],
   "source": [
    "# data"
   ]
  },
  {
   "cell_type": "markdown",
   "metadata": {},
   "source": [
    "# Categorical Features Analysis:"
   ]
  },
  {
   "cell_type": "code",
   "execution_count": 70,
   "metadata": {},
   "outputs": [
    {
     "name": "stdout",
     "output_type": "stream",
     "text": [
      "male      579\n",
      "female    314\n",
      "Name: Sex, dtype: int64\n"
     ]
    },
    {
     "data": {
      "image/png": "[encoded data removed]",
      "text/plain": [
       "<Figure size 432x288 with 1 Axes>"
      ]
     },
     "metadata": {},
     "output_type": "display_data"
    }
   ],
   "source": [
    "# count\n",
    "temp = data.Sex.value_counts()\n",
    "print(temp)\n",
    "\n",
    "# pie \n",
    "data['Sex'].value_counts().plot.pie(explode=[0,0.1],autopct='%.2f%%')\n",
    "plt.show()"
   ]
  },
  {
   "cell_type": "code",
   "execution_count": 56,
   "metadata": {},
   "outputs": [
    {
     "data": {
      "text/plain": [
       "Sex     Survived\n",
       "female  0            81\n",
       "        1           233\n",
       "male    0           469\n",
       "        1           110\n",
       "Name: Survived, dtype: int64"
      ]
     },
     "execution_count": 56,
     "metadata": {},
     "output_type": "execute_result"
    }
   ],
   "source": [
    "data.groupby(['Sex','Survived'])['Survived'].count()"
   ]
  },
  {
   "cell_type": "code",
   "execution_count": 57,
   "metadata": {},
   "outputs": [
    {
     "data": {
      "image/png": "[encoded data removed]",
      "text/plain": [
       "<Figure size 432x288 with 1 Axes>"
      ]
     },
     "metadata": {
      "needs_background": "light"
     },
     "output_type": "display_data"
    }
   ],
   "source": [
    "sns.countplot('Sex',hue='Survived',data=data)\n",
    "plt.show()"
   ]
  },
  {
   "cell_type": "markdown",
   "metadata": {},
   "source": [
    "### Understanting\n",
    "The number of men on the ship is lot more than the number of women. Men =65% and Women=35%. Still the number of women saved is almost twice the number of males saved. "
   ]
  },
  {
   "cell_type": "markdown",
   "metadata": {},
   "source": [
    "> # Task #2\n",
    "Do the same analysis on Pclass column and write one line Understanding."
   ]
  },
  {
   "cell_type": "code",
   "execution_count": null,
   "metadata": {},
   "outputs": [],
   "source": [
    "# "
   ]
  },
  {
   "cell_type": "markdown",
   "metadata": {},
   "source": [
    "**Lets check survival rate with Sex and Pclass Together.**"
   ]
  },
  {
   "cell_type": "code",
   "execution_count": 73,
   "metadata": {},
   "outputs": [
    {
     "data": {
      "text/html": [
       "<style  type=\"text/css\" >\n",
       "    #T_8edddee8_b880_11ea_a21a_b88a60c487eerow0_col0 {\n",
       "            background-color:  #fff7fb;\n",
       "            color:  #000000;\n",
       "        }    #T_8edddee8_b880_11ea_a21a_b88a60c487eerow0_col1 {\n",
       "            background-color:  #fff7fb;\n",
       "            color:  #000000;\n",
       "        }    #T_8edddee8_b880_11ea_a21a_b88a60c487eerow0_col2 {\n",
       "            background-color:  #f7f0f7;\n",
       "            color:  #000000;\n",
       "        }    #T_8edddee8_b880_11ea_a21a_b88a60c487eerow0_col3 {\n",
       "            background-color:  #fff7fb;\n",
       "            color:  #000000;\n",
       "        }    #T_8edddee8_b880_11ea_a21a_b88a60c487eerow1_col0 {\n",
       "            background-color:  #97b7d7;\n",
       "            color:  #000000;\n",
       "        }    #T_8edddee8_b880_11ea_a21a_b88a60c487eerow1_col1 {\n",
       "            background-color:  #abbfdc;\n",
       "            color:  #000000;\n",
       "        }    #T_8edddee8_b880_11ea_a21a_b88a60c487eerow1_col2 {\n",
       "            background-color:  #f7f0f7;\n",
       "            color:  #000000;\n",
       "        }    #T_8edddee8_b880_11ea_a21a_b88a60c487eerow1_col3 {\n",
       "            background-color:  #dfddec;\n",
       "            color:  #000000;\n",
       "        }    #T_8edddee8_b880_11ea_a21a_b88a60c487eerow2_col0 {\n",
       "            background-color:  #b0c2de;\n",
       "            color:  #000000;\n",
       "        }    #T_8edddee8_b880_11ea_a21a_b88a60c487eerow2_col1 {\n",
       "            background-color:  #7dacd1;\n",
       "            color:  #000000;\n",
       "        }    #T_8edddee8_b880_11ea_a21a_b88a60c487eerow2_col2 {\n",
       "            background-color:  #509ac6;\n",
       "            color:  #000000;\n",
       "        }    #T_8edddee8_b880_11ea_a21a_b88a60c487eerow2_col3 {\n",
       "            background-color:  #7dacd1;\n",
       "            color:  #000000;\n",
       "        }    #T_8edddee8_b880_11ea_a21a_b88a60c487eerow3_col0 {\n",
       "            background-color:  #dbdaeb;\n",
       "            color:  #000000;\n",
       "        }    #T_8edddee8_b880_11ea_a21a_b88a60c487eerow3_col1 {\n",
       "            background-color:  #f6eff7;\n",
       "            color:  #000000;\n",
       "        }    #T_8edddee8_b880_11ea_a21a_b88a60c487eerow3_col2 {\n",
       "            background-color:  #fff7fb;\n",
       "            color:  #000000;\n",
       "        }    #T_8edddee8_b880_11ea_a21a_b88a60c487eerow3_col3 {\n",
       "            background-color:  #faf2f8;\n",
       "            color:  #000000;\n",
       "        }    #T_8edddee8_b880_11ea_a21a_b88a60c487eerow4_col0 {\n",
       "            background-color:  #023858;\n",
       "            color:  #f1f1f1;\n",
       "        }    #T_8edddee8_b880_11ea_a21a_b88a60c487eerow4_col1 {\n",
       "            background-color:  #023858;\n",
       "            color:  #f1f1f1;\n",
       "        }    #T_8edddee8_b880_11ea_a21a_b88a60c487eerow4_col2 {\n",
       "            background-color:  #023858;\n",
       "            color:  #f1f1f1;\n",
       "        }    #T_8edddee8_b880_11ea_a21a_b88a60c487eerow4_col3 {\n",
       "            background-color:  #023858;\n",
       "            color:  #f1f1f1;\n",
       "        }</style><table id=\"T_8edddee8_b880_11ea_a21a_b88a60c487ee\" ><thead>    <tr>        <th class=\"blank\" ></th>        <th class=\"index_name level0\" >Pclass</th>        <th class=\"col_heading level0 col0\" >1</th>        <th class=\"col_heading level0 col1\" >2</th>        <th class=\"col_heading level0 col2\" >3</th>        <th class=\"col_heading level0 col3\" >All</th>    </tr>    <tr>        <th class=\"index_name level0\" >Sex</th>        <th class=\"index_name level1\" >Survived</th>        <th class=\"blank\" ></th>        <th class=\"blank\" ></th>        <th class=\"blank\" ></th>        <th class=\"blank\" ></th>    </tr></thead><tbody>\n",
       "                <tr>\n",
       "                        <th id=\"T_8edddee8_b880_11ea_a21a_b88a60c487eelevel0_row0\" class=\"row_heading level0 row0\" rowspan=2>female</th>\n",
       "                        <th id=\"T_8edddee8_b880_11ea_a21a_b88a60c487eelevel1_row0\" class=\"row_heading level1 row0\" >0</th>\n",
       "                        <td id=\"T_8edddee8_b880_11ea_a21a_b88a60c487eerow0_col0\" class=\"data row0 col0\" >3</td>\n",
       "                        <td id=\"T_8edddee8_b880_11ea_a21a_b88a60c487eerow0_col1\" class=\"data row0 col1\" >6</td>\n",
       "                        <td id=\"T_8edddee8_b880_11ea_a21a_b88a60c487eerow0_col2\" class=\"data row0 col2\" >72</td>\n",
       "                        <td id=\"T_8edddee8_b880_11ea_a21a_b88a60c487eerow0_col3\" class=\"data row0 col3\" >81</td>\n",
       "            </tr>\n",
       "            <tr>\n",
       "                                <th id=\"T_8edddee8_b880_11ea_a21a_b88a60c487eelevel1_row1\" class=\"row_heading level1 row1\" >1</th>\n",
       "                        <td id=\"T_8edddee8_b880_11ea_a21a_b88a60c487eerow1_col0\" class=\"data row1 col0\" >91</td>\n",
       "                        <td id=\"T_8edddee8_b880_11ea_a21a_b88a60c487eerow1_col1\" class=\"data row1 col1\" >70</td>\n",
       "                        <td id=\"T_8edddee8_b880_11ea_a21a_b88a60c487eerow1_col2\" class=\"data row1 col2\" >72</td>\n",
       "                        <td id=\"T_8edddee8_b880_11ea_a21a_b88a60c487eerow1_col3\" class=\"data row1 col3\" >233</td>\n",
       "            </tr>\n",
       "            <tr>\n",
       "                        <th id=\"T_8edddee8_b880_11ea_a21a_b88a60c487eelevel0_row2\" class=\"row_heading level0 row2\" rowspan=2>male</th>\n",
       "                        <th id=\"T_8edddee8_b880_11ea_a21a_b88a60c487eelevel1_row2\" class=\"row_heading level1 row2\" >0</th>\n",
       "                        <td id=\"T_8edddee8_b880_11ea_a21a_b88a60c487eerow2_col0\" class=\"data row2 col0\" >77</td>\n",
       "                        <td id=\"T_8edddee8_b880_11ea_a21a_b88a60c487eerow2_col1\" class=\"data row2 col1\" >91</td>\n",
       "                        <td id=\"T_8edddee8_b880_11ea_a21a_b88a60c487eerow2_col2\" class=\"data row2 col2\" >301</td>\n",
       "                        <td id=\"T_8edddee8_b880_11ea_a21a_b88a60c487eerow2_col3\" class=\"data row2 col3\" >469</td>\n",
       "            </tr>\n",
       "            <tr>\n",
       "                                <th id=\"T_8edddee8_b880_11ea_a21a_b88a60c487eelevel1_row3\" class=\"row_heading level1 row3\" >1</th>\n",
       "                        <td id=\"T_8edddee8_b880_11ea_a21a_b88a60c487eerow3_col0\" class=\"data row3 col0\" >46</td>\n",
       "                        <td id=\"T_8edddee8_b880_11ea_a21a_b88a60c487eerow3_col1\" class=\"data row3 col1\" >17</td>\n",
       "                        <td id=\"T_8edddee8_b880_11ea_a21a_b88a60c487eerow3_col2\" class=\"data row3 col2\" >47</td>\n",
       "                        <td id=\"T_8edddee8_b880_11ea_a21a_b88a60c487eerow3_col3\" class=\"data row3 col3\" >110</td>\n",
       "            </tr>\n",
       "            <tr>\n",
       "                        <th id=\"T_8edddee8_b880_11ea_a21a_b88a60c487eelevel0_row4\" class=\"row_heading level0 row4\" >All</th>\n",
       "                        <th id=\"T_8edddee8_b880_11ea_a21a_b88a60c487eelevel1_row4\" class=\"row_heading level1 row4\" ></th>\n",
       "                        <td id=\"T_8edddee8_b880_11ea_a21a_b88a60c487eerow4_col0\" class=\"data row4 col0\" >217</td>\n",
       "                        <td id=\"T_8edddee8_b880_11ea_a21a_b88a60c487eerow4_col1\" class=\"data row4 col1\" >184</td>\n",
       "                        <td id=\"T_8edddee8_b880_11ea_a21a_b88a60c487eerow4_col2\" class=\"data row4 col2\" >492</td>\n",
       "                        <td id=\"T_8edddee8_b880_11ea_a21a_b88a60c487eerow4_col3\" class=\"data row4 col3\" >893</td>\n",
       "            </tr>\n",
       "    </tbody></table>"
      ],
      "text/plain": [
       "<pandas.io.formats.style.Styler at 0x18300edc9e8>"
      ]
     },
     "execution_count": 73,
     "metadata": {},
     "output_type": "execute_result"
    }
   ],
   "source": [
    "pd.crosstab([data['Sex'], data['Survived']], data.Pclass,margins=True).style.background_gradient()"
   ]
  },
  {
   "cell_type": "code",
   "execution_count": 74,
   "metadata": {},
   "outputs": [
    {
     "data": {
      "image/png": "[encoded data removed]",
      "text/plain": [
       "<Figure size 430.5x360 with 1 Axes>"
      ]
     },
     "metadata": {
      "needs_background": "light"
     },
     "output_type": "display_data"
    }
   ],
   "source": [
    "sns.factorplot('Pclass','Survived',hue='Sex',data=data)\n",
    "plt.show()"
   ]
  },
  {
   "cell_type": "markdown",
   "metadata": {},
   "source": [
    "### Understanding\n",
    "\n",
    "Looking at the CrossTab and the FactorPlot, we can easily infer that survival for Women from Pclass1 is about 95-96%, as only 3 out of 94 Women from Pclass1 died."
   ]
  },
  {
   "cell_type": "markdown",
   "metadata": {},
   "source": [
    "> # Task 3 :\n",
    "Do the CrossTab and FactorPlot for Sex and Embarked columns (with unserstanding)\n"
   ]
  },
  {
   "cell_type": "code",
   "execution_count": null,
   "metadata": {},
   "outputs": [],
   "source": []
  }
 ],
 "metadata": {
  "kernelspec": {
   "display_name": "Python 3",
   "language": "python",
   "name": "python3"
  },
  "language_info": {
   "codemirror_mode": {
    "name": "ipython",
    "version": 3
   },
   "file_extension": ".py",
   "mimetype": "text/x-python",
   "name": "python",
   "nbconvert_exporter": "python",
   "pygments_lexer": "ipython3",
   "version": "3.7.2"
  }
 },
 "nbformat": 4,
 "nbformat_minor": 4
}
